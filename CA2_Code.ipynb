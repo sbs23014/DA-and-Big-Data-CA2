{
 "cells": [
  {
   "cell_type": "code",
   "execution_count": 1,
   "id": "1a5aed51",
   "metadata": {},
   "outputs": [],
   "source": [
    "from pyspark.sql.types import *"
   ]
  },
  {
   "cell_type": "code",
   "execution_count": 2,
   "id": "b69ac448",
   "metadata": {},
   "outputs": [],
   "source": [
    "customSchema = StructType([\n",
    "    StructField(\"Primary_Index\", IntegerType(), True), \n",
    "    StructField(\"Tweet_Id\", StringType(), True), \n",
    "    StructField(\"Date_Text\", StringType(), True),\n",
    "    StructField(\"Flag\", StringType(), True), \n",
    "    StructField(\"User\", StringType(), True),\n",
    "    StructField(\"Tweet_Text\", StringType(), True)])\n",
    "\n",
    "df = spark.read.load('hdfs://localhost:9000/CA2/ProjectTweets.csv', format=\"csv\", header=\"False\", sep=',', schema=customSchema)\n"
   ]
  },
  {
   "cell_type": "code",
   "execution_count": 3,
   "id": "6bb02d9d",
   "metadata": {},
   "outputs": [],
   "source": [
    "##Remove commas from the Tweet Text field\n",
    "##First test an example"
   ]
  },
  {
   "cell_type": "code",
   "execution_count": 4,
   "id": "ba0bb486",
   "metadata": {},
   "outputs": [
    {
     "name": "stderr",
     "output_type": "stream",
     "text": [
      "[Stage 1:>                                                          (0 + 1) / 1]\r"
     ]
    },
    {
     "name": "stdout",
     "output_type": "stream",
     "text": [
      "+---------------------------------------------------------------------------------------------------+\n",
      "|Tweet_Text                                                                                         |\n",
      "+---------------------------------------------------------------------------------------------------+\n",
      "|@LOLTrish hey  long time no see! Yes.. Rains a bit ,only a bit  LOL , I'm fine thanks , how's you ?|\n",
      "+---------------------------------------------------------------------------------------------------+\n",
      "\n"
     ]
    },
    {
     "name": "stderr",
     "output_type": "stream",
     "text": [
      "\r",
      "                                                                                \r"
     ]
    }
   ],
   "source": [
    "filtered_df = df.filter(df[\"Tweet_Id\"] == '1467811594')\n",
    "# Select only the \"Tweet_Text\" column from the filtered DataFrame\n",
    "result = filtered_df.select(\"Tweet_Text\")\n",
    "\n",
    "# Show the content of column \"Tweet_Text\"\n",
    "result.show(truncate=False)"
   ]
  },
  {
   "cell_type": "code",
   "execution_count": 5,
   "id": "2fcd4f5c",
   "metadata": {},
   "outputs": [],
   "source": [
    "##Then strip the commas out"
   ]
  },
  {
   "cell_type": "code",
   "execution_count": 6,
   "id": "1ec30428",
   "metadata": {},
   "outputs": [
    {
     "name": "stderr",
     "output_type": "stream",
     "text": [
      "[Stage 3:>                                                          (0 + 1) / 1]\r"
     ]
    },
    {
     "name": "stdout",
     "output_type": "stream",
     "text": [
      "+------------------------------------------------------------------------------------------------+\n",
      "|Tweet_Text                                                                                      |\n",
      "+------------------------------------------------------------------------------------------------+\n",
      "|@LOLTrish hey  long time no see! Yes.. Rains a bit only a bit  LOL  I'm fine thanks  how's you ?|\n",
      "+------------------------------------------------------------------------------------------------+\n",
      "\n"
     ]
    },
    {
     "name": "stderr",
     "output_type": "stream",
     "text": [
      "\r",
      "                                                                                \r"
     ]
    }
   ],
   "source": [
    "from pyspark.sql.functions import regexp_replace\n",
    "# Remove commas from the \"Tweet_Text\" column\n",
    "\n",
    "filtered_df = df.filter(df[\"Tweet_Id\"] == '1467811594')\n",
    "\n",
    "filtered_df = filtered_df.withColumn(\"Tweet_Text\", regexp_replace(filtered_df[\"Tweet_Text\"], \",\", \"\"))\n",
    "\n",
    "# Select only the \"Tweet_Text\" column from the filtered DataFrame\n",
    "result = filtered_df.select(\"Tweet_Text\")\n",
    "\n",
    "# Show the content of column \"Tweet_Text\"\n",
    "result.show(truncate=False)"
   ]
  },
  {
   "cell_type": "code",
   "execution_count": 7,
   "id": "2d2fa28a",
   "metadata": {},
   "outputs": [],
   "source": [
    "##Now do it with all the rows"
   ]
  },
  {
   "cell_type": "code",
   "execution_count": 8,
   "id": "1888c682",
   "metadata": {},
   "outputs": [],
   "source": [
    "df = df.withColumn(\"Tweet_Text\", regexp_replace(df[\"Tweet_Text\"], \",\", \"\"))"
   ]
  },
  {
   "cell_type": "code",
   "execution_count": 9,
   "id": "622797b5",
   "metadata": {},
   "outputs": [
    {
     "name": "stderr",
     "output_type": "stream",
     "text": [
      "[Stage 5:>                                                          (0 + 1) / 1]\r"
     ]
    },
    {
     "name": "stdout",
     "output_type": "stream",
     "text": [
      "+------------------------------------------------------------------------------------------------+\n",
      "|Tweet_Text                                                                                      |\n",
      "+------------------------------------------------------------------------------------------------+\n",
      "|@LOLTrish hey  long time no see! Yes.. Rains a bit only a bit  LOL  I'm fine thanks  how's you ?|\n",
      "+------------------------------------------------------------------------------------------------+\n",
      "\n"
     ]
    },
    {
     "name": "stderr",
     "output_type": "stream",
     "text": [
      "\r",
      "                                                                                \r"
     ]
    }
   ],
   "source": [
    "filtered_df = df.filter(df[\"Tweet_Id\"] == '1467811594')\n",
    "# Select only the \"Tweet_Text\" column from the filtered DataFrame\n",
    "result = filtered_df.select(\"Tweet_Text\")\n",
    "\n",
    "# Show the content of column \"Tweet_Text\"\n",
    "result.show(truncate=False)"
   ]
  },
  {
   "cell_type": "code",
   "execution_count": 10,
   "id": "9aa63413",
   "metadata": {},
   "outputs": [
    {
     "name": "stderr",
     "output_type": "stream",
     "text": [
      "                                                                                \r"
     ]
    },
    {
     "name": "stdout",
     "output_type": "stream",
     "text": [
      "Max length of Primary_Index: 7\n",
      "Max length of Tweet_Id: 10\n",
      "Max length of Date_Text: 28\n",
      "Max length of Flag: 8\n",
      "Max length of User: 15\n",
      "Max length of Tweet_Text: 374\n"
     ]
    }
   ],
   "source": [
    "\n",
    "# Calculate the max length of each column\n",
    "from pyspark.sql.functions import max, length\n",
    "max_lengths = []\n",
    "\n",
    "for column_name in df.columns:\n",
    "    max_length = df.agg(max(length(column_name))).collect()[0][0]\n",
    "    max_lengths.append((column_name, max_length))\n",
    "\n",
    "# Display the results\n",
    "for col, max_len in max_lengths:\n",
    "    print(f\"Max length of {col}: {max_len}\")"
   ]
  },
  {
   "cell_type": "code",
   "execution_count": 11,
   "id": "4388a592",
   "metadata": {},
   "outputs": [
    {
     "name": "stderr",
     "output_type": "stream",
     "text": [
      "[Stage 39:>                                                         (0 + 2) / 2]\r"
     ]
    },
    {
     "name": "stdout",
     "output_type": "stream",
     "text": [
      "Number of null values in Primary_Index: 0\n",
      "Number of null values in Tweet_Id: 0\n",
      "Number of null values in Date_Text: 0\n",
      "Number of null values in Flag: 0\n",
      "Number of null values in User: 0\n",
      "Number of null values in Tweet_Text: 0\n"
     ]
    },
    {
     "name": "stderr",
     "output_type": "stream",
     "text": [
      "\r",
      "[Stage 39:=============================>                            (1 + 1) / 2]\r",
      "\r",
      "                                                                                \r"
     ]
    }
   ],
   "source": [
    "from pyspark.sql.functions import col, sum\n",
    "\n",
    "# Count null values in each column\n",
    "null_counts = []\n",
    "\n",
    "for column_name in df.columns:\n",
    "    count = df.select(column_name).where(col(column_name).isNull()).count()\n",
    "    null_counts.append((column_name, count))\n",
    "\n",
    "# Display the results\n",
    "for col, count in null_counts:\n",
    "    print(f\"Number of null values in {col}: {count}\")"
   ]
  },
  {
   "cell_type": "code",
   "execution_count": 12,
   "id": "beb930ba",
   "metadata": {},
   "outputs": [
    {
     "name": "stderr",
     "output_type": "stream",
     "text": [
      "[Stage 72:>                                                         (0 + 2) / 2]\r"
     ]
    },
    {
     "name": "stdout",
     "output_type": "stream",
     "text": [
      "Number of unique values in Primary_Index: 1600000\n",
      "Number of unique values in Tweet_Id: 1598315\n",
      "Number of unique values in Date_Text: 774363\n",
      "Number of unique values in Flag: 1\n",
      "Number of unique values in User: 659775\n",
      "Number of unique values in Tweet_Text: 1581312\n"
     ]
    },
    {
     "name": "stderr",
     "output_type": "stream",
     "text": [
      "\r",
      "[Stage 74:>                                                         (0 + 2) / 2]\r",
      "\r",
      "                                                                                \r"
     ]
    }
   ],
   "source": [
    "from pyspark.sql.functions import countDistinct\n",
    "\n",
    "# Calculate the number of unique values in each column\n",
    "unique_counts = []\n",
    "\n",
    "for column_name in df.columns:\n",
    "    count = df.agg(countDistinct(column_name)).collect()[0][0]\n",
    "    unique_counts.append((column_name, count))\n",
    "\n",
    "# Display the results\n",
    "for col, count in unique_counts:\n",
    "    print(f\"Number of unique values in {col}: {count}\")"
   ]
  },
  {
   "cell_type": "code",
   "execution_count": 13,
   "id": "7065ca3c",
   "metadata": {},
   "outputs": [
    {
     "name": "stderr",
     "output_type": "stream",
     "text": [
      "\r",
      "[Stage 78:>                                                         (0 + 2) / 2]\r"
     ]
    },
    {
     "name": "stdout",
     "output_type": "stream",
     "text": [
      "+----------+-----+\n",
      "|  Tweet_Id|count|\n",
      "+----------+-----+\n",
      "|1469531660|    2|\n",
      "+----------+-----+\n",
      "\n"
     ]
    },
    {
     "name": "stderr",
     "output_type": "stream",
     "text": [
      "\r",
      "                                                                                \r"
     ]
    }
   ],
   "source": [
    "from pyspark.sql.functions import col\n",
    "# Find and display an example record with duplicated \"Tweet_Id\"\n",
    "duplicate_tweet_id_example = df.groupBy(\"Tweet_Id\").count().filter(col(\"count\") > 1).limit(1)\n",
    "\n",
    "# Display the result\n",
    "duplicate_tweet_id_example.show()"
   ]
  },
  {
   "cell_type": "code",
   "execution_count": 14,
   "id": "0bf779b6",
   "metadata": {},
   "outputs": [
    {
     "name": "stderr",
     "output_type": "stream",
     "text": [
      "[Stage 85:>                                                         (0 + 1) / 1]\r"
     ]
    },
    {
     "name": "stdout",
     "output_type": "stream",
     "text": [
      "+-------------+----------+----------------------------+--------+------------+-----------------------------------------------------------------+\n",
      "|Primary_Index|Tweet_Id  |Date_Text                   |Flag    |User        |Tweet_Text                                                       |\n",
      "+-------------+----------+----------------------------+--------+------------+-----------------------------------------------------------------+\n",
      "|6730         |1469531660|Tue Apr 07 06:39:53 PDT 2009|NO_QUERY|appleaddicto|Company blocked Twitter today  oh well i still have it on mobile |\n",
      "|809639       |1469531660|Tue Apr 07 06:39:53 PDT 2009|NO_QUERY|appleaddicto|Company blocked Twitter today  oh well i still have it on mobile |\n",
      "+-------------+----------+----------------------------+--------+------------+-----------------------------------------------------------------+\n",
      "\n"
     ]
    },
    {
     "name": "stderr",
     "output_type": "stream",
     "text": [
      "\r",
      "                                                                                \r"
     ]
    }
   ],
   "source": [
    "# Find and display all records with the Tweet_Id \"1469531660\"\n",
    "matching_records = df.filter(col(\"Tweet_Id\") == \"1469531660\")\n",
    "\n",
    "# Display the matching records\n",
    "matching_records.show(truncate=False)"
   ]
  },
  {
   "cell_type": "code",
   "execution_count": 15,
   "id": "7c469069",
   "metadata": {},
   "outputs": [],
   "source": [
    "# Create a DataFrame with unique records\n",
    "unique_records_df = df.dropDuplicates([\"Tweet_Id\", \"Date_Text\", \"Flag\", \"User\", \"Tweet_Text\"])\n"
   ]
  },
  {
   "cell_type": "code",
   "execution_count": 16,
   "id": "3f72334b",
   "metadata": {},
   "outputs": [
    {
     "name": "stderr",
     "output_type": "stream",
     "text": [
      "2023-10-29 21:10:06,473 WARN expressions.RowBasedKeyValueBatch: Calling spill() on RowBasedKeyValueBatch. Will not spill but return 0.\n",
      "2023-10-29 21:10:06,502 WARN expressions.RowBasedKeyValueBatch: Calling spill() on RowBasedKeyValueBatch. Will not spill but return 0.\n",
      "2023-10-29 21:10:07,120 WARN expressions.RowBasedKeyValueBatch: Calling spill() on RowBasedKeyValueBatch. Will not spill but return 0.\n",
      "2023-10-29 21:10:07,144 WARN expressions.RowBasedKeyValueBatch: Calling spill() on RowBasedKeyValueBatch. Will not spill but return 0.\n",
      "[Stage 120:>                                                        (0 + 2) / 2]\r"
     ]
    },
    {
     "name": "stdout",
     "output_type": "stream",
     "text": [
      "Number of unique values in Primary_Index: 1598315\n",
      "Number of unique values in Tweet_Id: 1598315\n",
      "Number of unique values in Date_Text: 774363\n",
      "Number of unique values in Flag: 1\n",
      "Number of unique values in User: 659775\n",
      "Number of unique values in Tweet_Text: 1581312\n"
     ]
    },
    {
     "name": "stderr",
     "output_type": "stream",
     "text": [
      "\r",
      "[Stage 122:>                                                        (0 + 2) / 2]\r",
      "\r",
      "                                                                                \r"
     ]
    }
   ],
   "source": [
    "# Calculate the number of unique values in each column\n",
    "unique_counts = []\n",
    "\n",
    "for column_name in df.columns:\n",
    "    count = unique_records_df.agg(countDistinct(column_name)).collect()[0][0]\n",
    "    unique_counts.append((column_name, count))\n",
    "\n",
    "# Display the results\n",
    "for col, count in unique_counts:\n",
    "    print(f\"Number of unique values in {col}: {count}\")"
   ]
  },
  {
   "cell_type": "code",
   "execution_count": 17,
   "id": "41641c95",
   "metadata": {},
   "outputs": [
    {
     "name": "stderr",
     "output_type": "stream",
     "text": [
      "2023-10-29 21:10:51,477 WARN expressions.RowBasedKeyValueBatch: Calling spill() on RowBasedKeyValueBatch. Will not spill but return 0.\n",
      "2023-10-29 21:10:51,484 WARN expressions.RowBasedKeyValueBatch: Calling spill() on RowBasedKeyValueBatch. Will not spill but return 0.\n",
      "2023-10-29 21:10:51,736 WARN expressions.RowBasedKeyValueBatch: Calling spill() on RowBasedKeyValueBatch. Will not spill but return 0.\n",
      "2023-10-29 21:10:51,744 WARN expressions.RowBasedKeyValueBatch: Calling spill() on RowBasedKeyValueBatch. Will not spill but return 0.\n",
      "[Stage 130:>                                                        (0 + 2) / 2]\r"
     ]
    },
    {
     "name": "stdout",
     "output_type": "stream",
     "text": [
      "+-------------+----------+----------------------------+--------+------------+-----------------------------------------------------------------+\n",
      "|Primary_Index|Tweet_Id  |Date_Text                   |Flag    |User        |Tweet_Text                                                       |\n",
      "+-------------+----------+----------------------------+--------+------------+-----------------------------------------------------------------+\n",
      "|6730         |1469531660|Tue Apr 07 06:39:53 PDT 2009|NO_QUERY|appleaddicto|Company blocked Twitter today  oh well i still have it on mobile |\n",
      "+-------------+----------+----------------------------+--------+------------+-----------------------------------------------------------------+\n",
      "\n"
     ]
    },
    {
     "name": "stderr",
     "output_type": "stream",
     "text": [
      "\r",
      "                                                                                \r"
     ]
    }
   ],
   "source": [
    "from pyspark.sql.functions import col\n",
    "# Find and display all records with the Tweet_Id \"1469531660\"\n",
    "matching_records = unique_records_df.filter(col(\"Tweet_Id\") == \"1469531660\")\n",
    "\n",
    "# Display the matching records\n",
    "matching_records.show(truncate=False)"
   ]
  },
  {
   "cell_type": "code",
   "execution_count": 42,
   "id": "18036c7a",
   "metadata": {},
   "outputs": [],
   "source": [
    "df = unique_records_df"
   ]
  },
  {
   "cell_type": "code",
   "execution_count": 31,
   "id": "b90d8b5c",
   "metadata": {},
   "outputs": [
    {
     "name": "stderr",
     "output_type": "stream",
     "text": [
      "[Stage 157:>                                                        (0 + 1) / 1]\r"
     ]
    },
    {
     "name": "stdout",
     "output_type": "stream",
     "text": [
      "+----------+--------------------+--------------+--------------------+--------------------+\n",
      "|  Tweet_Id|           Date_Text|          User|          Tweet_Text|  Tweet_Text_Cleaned|\n",
      "+----------+--------------------+--------------+--------------------+--------------------+\n",
      "|1467878557|Mon Apr 06 22:37:...|    tshamysboo|dierks bentley is...|dierks bentley is...|\n",
      "|1467901424|Mon Apr 06 22:43:...|      duckyrat|This latest episo...|This latest episo...|\n",
      "|1467918595|Mon Apr 06 22:48:...|     DanaSully|@DaveLindquist ca...|@DaveLindquist ca...|\n",
      "|1467982795|Mon Apr 06 23:06:...|      TiffinyB|I am home missing...|I am home missing...|\n",
      "|1468020773|Mon Apr 06 23:17:...| MalaysianLife|@daydreamer20 Goo...|@daydreamer20 Goo...|\n",
      "|1468021367|Mon Apr 06 23:18:...|DanielChambers|Back on the 7am t...|Back on the 7am t...|\n",
      "|1468023239|Mon Apr 06 23:18:...|   mayveleezet|day 2 is almost o...|day 2 is almost o...|\n",
      "|1468036593|Mon Apr 06 23:22:...|      johnhays|@realchrissystar ...|@realchrissystar ...|\n",
      "|1468071517|Mon Apr 06 23:33:...|       JeanneD|Is there Twitter ...|Is there Twitter ...|\n",
      "|1468087930|Mon Apr 06 23:38:...| _DanielTouch_|is eating frozen ...|is eating frozen ...|\n",
      "+----------+--------------------+--------------+--------------------+--------------------+\n",
      "only showing top 10 rows\n",
      "\n"
     ]
    },
    {
     "name": "stderr",
     "output_type": "stream",
     "text": [
      "\r",
      "                                                                                \r"
     ]
    }
   ],
   "source": [
    "from pyspark.sql.functions import col\n",
    "\n",
    "df = unique_records_df.select(\"Tweet_Id\", \"Date_Text\", \"User\",\"Tweet_Text\", col(\"Tweet_Text\").alias(\"Tweet_Text_Cleaned\"))\n",
    "df.show(10)"
   ]
  },
  {
   "cell_type": "code",
   "execution_count": 32,
   "id": "4fdd6bfa",
   "metadata": {},
   "outputs": [
    {
     "name": "stderr",
     "output_type": "stream",
     "text": [
      "\r",
      "[Stage 158:>                                                        (0 + 2) / 2]\r"
     ]
    },
    {
     "name": "stdout",
     "output_type": "stream",
     "text": [
      "+--------------------+\n",
      "|Date_Text_Characters|\n",
      "+--------------------+\n",
      "|                 PDT|\n",
      "+--------------------+\n",
      "\n"
     ]
    },
    {
     "name": "stderr",
     "output_type": "stream",
     "text": [
      "\r",
      "[Stage 158:============================>                            (1 + 1) / 2]\r",
      "\r",
      "                                                                                \r"
     ]
    }
   ],
   "source": [
    "# Extract characters at positions 21, 22, and 23 and select unique values\n",
    "from pyspark.sql.functions import substring\n",
    "unique_characters = df.select(substring(\"Date_Text\", 21, 3).alias(\"Date_Text_Characters\")).distinct()\n",
    "\n",
    "# Show the unique characters\n",
    "unique_characters.show()"
   ]
  },
  {
   "cell_type": "code",
   "execution_count": 33,
   "id": "4cd47077",
   "metadata": {},
   "outputs": [],
   "source": [
    "\n",
    "df =df.withColumn(\"Year\", df.Date_Text.substr(-4, 4))\n",
    "df = df.withColumn(\"Month\", df.Date_Text.substr(5, 3))\n",
    "df = df.withColumn(\"Day\", df.Date_Text.substr(9, 2))"
   ]
  },
  {
   "cell_type": "code",
   "execution_count": 22,
   "id": "edbdcfb8",
   "metadata": {},
   "outputs": [
    {
     "name": "stderr",
     "output_type": "stream",
     "text": [
      "[Stage 137:============================>                            (1 + 1) / 2]\r"
     ]
    },
    {
     "name": "stdout",
     "output_type": "stream",
     "text": [
      "+----------+--------------------+--------------+--------------------+--------------------+----+-----+---+\n",
      "|  Tweet_Id|           Date_Text|          User|          Tweet_Text|  Tweet_Text_Cleaned|Year|Month|Day|\n",
      "+----------+--------------------+--------------+--------------------+--------------------+----+-----+---+\n",
      "|1467878557|Mon Apr 06 22:37:...|    tshamysboo|dierks bentley is...|dierks bentley is...|2009|  Apr| 06|\n",
      "|1467901424|Mon Apr 06 22:43:...|      duckyrat|This latest episo...|This latest episo...|2009|  Apr| 06|\n",
      "|1467918595|Mon Apr 06 22:48:...|     DanaSully|@DaveLindquist ca...|@DaveLindquist ca...|2009|  Apr| 06|\n",
      "|1467982795|Mon Apr 06 23:06:...|      TiffinyB|I am home missing...|I am home missing...|2009|  Apr| 06|\n",
      "|1468020773|Mon Apr 06 23:17:...| MalaysianLife|@daydreamer20 Goo...|@daydreamer20 Goo...|2009|  Apr| 06|\n",
      "|1468021367|Mon Apr 06 23:18:...|DanielChambers|Back on the 7am t...|Back on the 7am t...|2009|  Apr| 06|\n",
      "|1468023239|Mon Apr 06 23:18:...|   mayveleezet|day 2 is almost o...|day 2 is almost o...|2009|  Apr| 06|\n",
      "|1468036593|Mon Apr 06 23:22:...|      johnhays|@realchrissystar ...|@realchrissystar ...|2009|  Apr| 06|\n",
      "|1468071517|Mon Apr 06 23:33:...|       JeanneD|Is there Twitter ...|Is there Twitter ...|2009|  Apr| 06|\n",
      "|1468087930|Mon Apr 06 23:38:...| _DanielTouch_|is eating frozen ...|is eating frozen ...|2009|  Apr| 06|\n",
      "+----------+--------------------+--------------+--------------------+--------------------+----+-----+---+\n",
      "only showing top 10 rows\n",
      "\n"
     ]
    },
    {
     "name": "stderr",
     "output_type": "stream",
     "text": [
      "\r",
      "[Stage 139:>                                                        (0 + 1) / 1]\r",
      "\r",
      "                                                                                \r"
     ]
    }
   ],
   "source": [
    "df.show(10)"
   ]
  },
  {
   "cell_type": "code",
   "execution_count": 23,
   "id": "84757b58",
   "metadata": {},
   "outputs": [
    {
     "name": "stderr",
     "output_type": "stream",
     "text": [
      "[Stage 140:============================>                            (1 + 1) / 2]\r"
     ]
    },
    {
     "name": "stdout",
     "output_type": "stream",
     "text": [
      "+-----+\n",
      "|Month|\n",
      "+-----+\n",
      "|  May|\n",
      "|  Jun|\n",
      "|  Apr|\n",
      "+-----+\n",
      "\n"
     ]
    },
    {
     "name": "stderr",
     "output_type": "stream",
     "text": [
      "\r",
      "                                                                                \r"
     ]
    }
   ],
   "source": [
    "# Use the `distinct` method to get unique values in the \"Month\" column\n",
    "unique_months = df.select(\"Month\").distinct()\n",
    "\n",
    "# Show the unique values\n",
    "unique_months.show()"
   ]
  },
  {
   "cell_type": "code",
   "execution_count": 34,
   "id": "2a5c975b",
   "metadata": {},
   "outputs": [
    {
     "name": "stderr",
     "output_type": "stream",
     "text": [
      "[Stage 161:============================>                            (1 + 1) / 2]\r"
     ]
    },
    {
     "name": "stdout",
     "output_type": "stream",
     "text": [
      "+----------+--------------------+--------------+--------------------+--------------------+----+-----+---+\n",
      "|  Tweet_Id|           Date_Text|          User|          Tweet_Text|  Tweet_Text_Cleaned|Year|Month|Day|\n",
      "+----------+--------------------+--------------+--------------------+--------------------+----+-----+---+\n",
      "|1467878557|Mon Apr 06 22:37:...|    tshamysboo|dierks bentley is...|dierks bentley is...|2009|   04| 06|\n",
      "|1467901424|Mon Apr 06 22:43:...|      duckyrat|This latest episo...|This latest episo...|2009|   04| 06|\n",
      "|1467918595|Mon Apr 06 22:48:...|     DanaSully|@DaveLindquist ca...|@DaveLindquist ca...|2009|   04| 06|\n",
      "|1467982795|Mon Apr 06 23:06:...|      TiffinyB|I am home missing...|I am home missing...|2009|   04| 06|\n",
      "|1468020773|Mon Apr 06 23:17:...| MalaysianLife|@daydreamer20 Goo...|@daydreamer20 Goo...|2009|   04| 06|\n",
      "|1468021367|Mon Apr 06 23:18:...|DanielChambers|Back on the 7am t...|Back on the 7am t...|2009|   04| 06|\n",
      "|1468023239|Mon Apr 06 23:18:...|   mayveleezet|day 2 is almost o...|day 2 is almost o...|2009|   04| 06|\n",
      "|1468036593|Mon Apr 06 23:22:...|      johnhays|@realchrissystar ...|@realchrissystar ...|2009|   04| 06|\n",
      "|1468071517|Mon Apr 06 23:33:...|       JeanneD|Is there Twitter ...|Is there Twitter ...|2009|   04| 06|\n",
      "|1468087930|Mon Apr 06 23:38:...| _DanielTouch_|is eating frozen ...|is eating frozen ...|2009|   04| 06|\n",
      "+----------+--------------------+--------------+--------------------+--------------------+----+-----+---+\n",
      "only showing top 10 rows\n",
      "\n"
     ]
    },
    {
     "name": "stderr",
     "output_type": "stream",
     "text": [
      "\r",
      "[Stage 163:>                                                        (0 + 1) / 1]\r",
      "\r",
      "                                                                                \r"
     ]
    }
   ],
   "source": [
    "from pyspark.sql.functions import when, lit\n",
    "\n",
    "# Use the `when` and `lit` functions to replace values in the \"Month\" column\n",
    "df = df.withColumn(\"Month\", when(df[\"Month\"] == \"May\", lit(\"05\"))\n",
    "                        .when(df[\"Month\"] == \"Apr\", lit(\"04\"))\n",
    "                        .when(df[\"Month\"] == \"Jun\", lit(\"06\"))\n",
    "                        .otherwise(df[\"Month\"]))\n",
    "\n",
    "# Show the updated DataFrame\n",
    "df.show(10)"
   ]
  },
  {
   "cell_type": "code",
   "execution_count": 35,
   "id": "7720a6fb",
   "metadata": {},
   "outputs": [
    {
     "name": "stderr",
     "output_type": "stream",
     "text": [
      "[Stage 166:>                                                        (0 + 1) / 1]\r"
     ]
    },
    {
     "name": "stdout",
     "output_type": "stream",
     "text": [
      "+----------+--------------------+--------------+--------------------+--------------------+----+-----+---+----------+\n",
      "|  Tweet_Id|           Date_Text|          User|          Tweet_Text|  Tweet_Text_Cleaned|Year|Month|Day|      Date|\n",
      "+----------+--------------------+--------------+--------------------+--------------------+----+-----+---+----------+\n",
      "|1467878557|Mon Apr 06 22:37:...|    tshamysboo|dierks bentley is...|dierks bentley is...|2009|   04| 06|2009-04-06|\n",
      "|1467901424|Mon Apr 06 22:43:...|      duckyrat|This latest episo...|This latest episo...|2009|   04| 06|2009-04-06|\n",
      "|1467918595|Mon Apr 06 22:48:...|     DanaSully|@DaveLindquist ca...|@DaveLindquist ca...|2009|   04| 06|2009-04-06|\n",
      "|1467982795|Mon Apr 06 23:06:...|      TiffinyB|I am home missing...|I am home missing...|2009|   04| 06|2009-04-06|\n",
      "|1468020773|Mon Apr 06 23:17:...| MalaysianLife|@daydreamer20 Goo...|@daydreamer20 Goo...|2009|   04| 06|2009-04-06|\n",
      "|1468021367|Mon Apr 06 23:18:...|DanielChambers|Back on the 7am t...|Back on the 7am t...|2009|   04| 06|2009-04-06|\n",
      "|1468023239|Mon Apr 06 23:18:...|   mayveleezet|day 2 is almost o...|day 2 is almost o...|2009|   04| 06|2009-04-06|\n",
      "|1468036593|Mon Apr 06 23:22:...|      johnhays|@realchrissystar ...|@realchrissystar ...|2009|   04| 06|2009-04-06|\n",
      "|1468071517|Mon Apr 06 23:33:...|       JeanneD|Is there Twitter ...|Is there Twitter ...|2009|   04| 06|2009-04-06|\n",
      "|1468087930|Mon Apr 06 23:38:...| _DanielTouch_|is eating frozen ...|is eating frozen ...|2009|   04| 06|2009-04-06|\n",
      "+----------+--------------------+--------------+--------------------+--------------------+----+-----+---+----------+\n",
      "only showing top 10 rows\n",
      "\n"
     ]
    },
    {
     "name": "stderr",
     "output_type": "stream",
     "text": [
      "\r",
      "                                                                                \r"
     ]
    }
   ],
   "source": [
    "from pyspark.sql.functions import concat_ws, expr\n",
    "from pyspark.sql.types import StringType\n",
    "\n",
    "# Convert the \"Year,\" \"Month,\" and \"Day\" columns to string type\n",
    "df = df.withColumn(\"Year\", df[\"Year\"].cast(StringType()))\n",
    "df = df.withColumn(\"Month\", df[\"Month\"].cast(StringType()))\n",
    "df = df.withColumn(\"Day\", df[\"Day\"].cast(StringType()))\n",
    "\n",
    "# Use `concat_ws` to concatenate the three columns with \"/\" separator\n",
    "df = df.withColumn(\"Date\", concat_ws(\"/\", df[\"Day\"], df[\"Month\"], df[\"Year\"]))\n",
    "\n",
    "# Use `expr` to cast the concatenated string to a date\n",
    "df = df.withColumn(\"Date\", expr(\"to_date(Date, 'dd/MM/yyyy')\"))\n",
    "\n",
    "# Show the updated DataFrame\n",
    "df.show(10)"
   ]
  },
  {
   "cell_type": "code",
   "execution_count": 40,
   "id": "780bf536",
   "metadata": {},
   "outputs": [
    {
     "name": "stdout",
     "output_type": "stream",
     "text": [
      "Defaulting to user installation because normal site-packages is not writeable\n",
      "Requirement already satisfied: matplotlib in /usr/lib/python3/dist-packages (3.5.1)\n",
      "Note: you may need to restart the kernel to use updated packages.\n"
     ]
    }
   ],
   "source": [
    "pip install matplotlib"
   ]
  },
  {
   "cell_type": "code",
   "execution_count": 43,
   "id": "f35929e3",
   "metadata": {},
   "outputs": [
    {
     "name": "stderr",
     "output_type": "stream",
     "text": [
      "                                                                                \r"
     ]
    },
    {
     "data": {
      "image/png": "[encoded data removed]",
      "text/plain": [
       "<Figure size 720x360 with 1 Axes>"
      ]
     },
     "metadata": {
      "needs_background": "light"
     },
     "output_type": "display_data"
    }
   ],
   "source": [
    "import matplotlib.pyplot as plt\n",
    "import pandas as pd\n",
    "from pyspark.sql.functions import lower, split, explode, regexp_replace\n",
    "\n",
    "# Preprocess the text data\n",
    "df = df.withColumn(\"Tweet_Text\", lower(df[\"Tweet_Text\"]))  # Convert to lowercase\n",
    "df = df.withColumn(\"Tweet_Text\", regexp_replace(df[\"Tweet_Text\"], r\"[^a-z\\s]\", \"\"))  # Remove non-alphabetic characters\n",
    "df = df.withColumn(\"Words\", split(df[\"Tweet_Text\"], \" \"))  # Split text into words\n",
    "\n",
    "# Explode the array of words into separate rows\n",
    "df = df.select(\"Words\").withColumn(\"Word\", explode(df[\"Words\"]))\n",
    "\n",
    "# Group by and count word frequencies\n",
    "word_counts = df.groupBy(\"Word\").count()\n",
    "\n",
    "# Sort words by frequency\n",
    "word_counts = word_counts.orderBy(\"count\", ascending=False)\n",
    "\n",
    "# Convert the result to a Pandas DataFrame for visualization\n",
    "word_counts_pd = word_counts.toPandas()\n",
    "\n",
    "# Display a bar chart of the top N most frequent words\n",
    "top_N = 10  # Set the number of top words to display\n",
    "plt.figure(figsize=(10, 5))\n",
    "plt.bar(word_counts_pd[\"Word\"][:top_N], word_counts_pd[\"count\"][:top_N])\n",
    "plt.xlabel(\"Words\")\n",
    "plt.ylabel(\"Frequency\")\n",
    "plt.title(\"Top {} Words in Tweets\".format(top_N))\n",
    "plt.xticks(rotation=45)\n",
    "plt.show()"
   ]
  },
  {
   "cell_type": "code",
   "execution_count": 44,
   "id": "0687837c",
   "metadata": {},
   "outputs": [
    {
     "name": "stdout",
     "output_type": "stream",
     "text": [
      "Defaulting to user installation because normal site-packages is not writeable\n",
      "Collecting nltk\n",
      "  Downloading nltk-3.8.1-py3-none-any.whl (1.5 MB)\n",
      "\u001b[2K     \u001b[38;2;114;156;31m━━━━━━━━━━━━━━━━━━━━━━━━━━━━━━━━━━━━━━━━\u001b[0m \u001b[32m1.5/1.5 MB\u001b[0m \u001b[31m4.2 MB/s\u001b[0m eta \u001b[36m0:00:00\u001b[0mm eta \u001b[36m0:00:01\u001b[0m0:01\u001b[0m:01\u001b[0m\n",
      "\u001b[?25hCollecting tqdm\n",
      "  Downloading tqdm-4.66.1-py3-none-any.whl (78 kB)\n",
      "\u001b[2K     \u001b[38;2;114;156;31m━━━━━━━━━━━━━━━━━━━━━━━━━━━━━━━━━━━━━━━━\u001b[0m \u001b[32m78.3/78.3 KB\u001b[0m \u001b[31m4.1 MB/s\u001b[0m eta \u001b[36m0:00:00\u001b[0m\n",
      "\u001b[?25hRequirement already satisfied: click in /usr/lib/python3/dist-packages (from nltk) (8.0.3)\n",
      "Collecting regex>=2021.8.3\n",
      "  Downloading regex-2023.10.3-cp310-cp310-manylinux_2_17_x86_64.manylinux2014_x86_64.whl (773 kB)\n",
      "\u001b[2K     \u001b[38;2;114;156;31m━━━━━━━━━━━━━━━━━━━━━━━━━━━━━━━━━━━━━━\u001b[0m \u001b[32m773.9/773.9 KB\u001b[0m \u001b[31m16.4 MB/s\u001b[0m eta \u001b[36m0:00:00\u001b[0mm eta \u001b[36m0:00:01\u001b[0m\n",
      "\u001b[?25hCollecting joblib\n",
      "  Downloading joblib-1.3.2-py3-none-any.whl (302 kB)\n",
      "\u001b[2K     \u001b[38;2;114;156;31m━━━━━━━━━━━━━━━━━━━━━━━━━━━━━━━━━━━━━━━\u001b[0m \u001b[32m302.2/302.2 KB\u001b[0m \u001b[31m9.7 MB/s\u001b[0m eta \u001b[36m0:00:00\u001b[0m\n",
      "\u001b[?25hInstalling collected packages: tqdm, regex, joblib, nltk\n",
      "\u001b[33m  WARNING: The script tqdm is installed in '/home/hduser/.local/bin' which is not on PATH.\n",
      "  Consider adding this directory to PATH or, if you prefer to suppress this warning, use --no-warn-script-location.\u001b[0m\u001b[33m\n",
      "\u001b[0m\u001b[33m  WARNING: The script nltk is installed in '/home/hduser/.local/bin' which is not on PATH.\n",
      "  Consider adding this directory to PATH or, if you prefer to suppress this warning, use --no-warn-script-location.\u001b[0m\u001b[33m\n",
      "\u001b[0mSuccessfully installed joblib-1.3.2 nltk-3.8.1 regex-2023.10.3 tqdm-4.66.1\n",
      "Note: you may need to restart the kernel to use updated packages.\n"
     ]
    }
   ],
   "source": [
    "pip install nltk"
   ]
  },
  {
   "cell_type": "code",
   "execution_count": 45,
   "id": "4d1f2ceb",
   "metadata": {},
   "outputs": [
    {
     "name": "stderr",
     "output_type": "stream",
     "text": [
      "/usr/lib/python3/dist-packages/scipy/__init__.py:146: UserWarning: A NumPy version >=1.17.3 and <1.25.0 is required for this version of SciPy (detected version 1.26.1\n",
      "  warnings.warn(f\"A NumPy version >={np_minversion} and <{np_maxversion}\"\n",
      "[nltk_data] Downloading package stopwords to /home/hduser/nltk_data...\n",
      "[nltk_data]   Unzipping corpora/stopwords.zip.\n"
     ]
    },
    {
     "ename": "AnalysisException",
     "evalue": "Cannot resolve column name \"Tweet_Text\" among (Words, Word)",
     "output_type": "error",
     "traceback": [
      "\u001b[0;31m---------------------------------------------------------------------------\u001b[0m",
      "\u001b[0;31mAnalysisException\u001b[0m                         Traceback (most recent call last)",
      "\u001b[0;32m/tmp/ipykernel_9398/4062434765.py\u001b[0m in \u001b[0;36m<module>\u001b[0;34m\u001b[0m\n\u001b[1;32m     12\u001b[0m \u001b[0;31m# Assuming you have a DataFrame 'df' with a column 'Tweet_Text'\u001b[0m\u001b[0;34m\u001b[0m\u001b[0;34m\u001b[0m\u001b[0m\n\u001b[1;32m     13\u001b[0m \u001b[0;31m# Preprocess the text data\u001b[0m\u001b[0;34m\u001b[0m\u001b[0;34m\u001b[0m\u001b[0m\n\u001b[0;32m---> 14\u001b[0;31m \u001b[0mdf\u001b[0m \u001b[0;34m=\u001b[0m \u001b[0mdf\u001b[0m\u001b[0;34m.\u001b[0m\u001b[0mwithColumn\u001b[0m\u001b[0;34m(\u001b[0m\u001b[0;34m\"Tweet_Text\"\u001b[0m\u001b[0;34m,\u001b[0m \u001b[0mlower\u001b[0m\u001b[0;34m(\u001b[0m\u001b[0mdf\u001b[0m\u001b[0;34m[\u001b[0m\u001b[0;34m\"Tweet_Text\"\u001b[0m\u001b[0;34m]\u001b[0m\u001b[0;34m)\u001b[0m\u001b[0;34m)\u001b[0m  \u001b[0;31m# Convert to lowercase\u001b[0m\u001b[0;34m\u001b[0m\u001b[0;34m\u001b[0m\u001b[0m\n\u001b[0m\u001b[1;32m     15\u001b[0m \u001b[0mdf\u001b[0m \u001b[0;34m=\u001b[0m \u001b[0mdf\u001b[0m\u001b[0;34m.\u001b[0m\u001b[0mwithColumn\u001b[0m\u001b[0;34m(\u001b[0m\u001b[0;34m\"Tweet_Text\"\u001b[0m\u001b[0;34m,\u001b[0m \u001b[0mregexp_replace\u001b[0m\u001b[0;34m(\u001b[0m\u001b[0mdf\u001b[0m\u001b[0;34m[\u001b[0m\u001b[0;34m\"Tweet_Text\"\u001b[0m\u001b[0;34m]\u001b[0m\u001b[0;34m,\u001b[0m \u001b[0;34mr\"[^a-z\\s]\"\u001b[0m\u001b[0;34m,\u001b[0m \u001b[0;34m\"\"\u001b[0m\u001b[0;34m)\u001b[0m\u001b[0;34m)\u001b[0m  \u001b[0;31m# Remove non-alphabetic characters\u001b[0m\u001b[0;34m\u001b[0m\u001b[0;34m\u001b[0m\u001b[0m\n\u001b[1;32m     16\u001b[0m \u001b[0mdf\u001b[0m \u001b[0;34m=\u001b[0m \u001b[0mdf\u001b[0m\u001b[0;34m.\u001b[0m\u001b[0mwithColumn\u001b[0m\u001b[0;34m(\u001b[0m\u001b[0;34m\"Words\"\u001b[0m\u001b[0;34m,\u001b[0m \u001b[0msplit\u001b[0m\u001b[0;34m(\u001b[0m\u001b[0mdf\u001b[0m\u001b[0;34m[\u001b[0m\u001b[0;34m\"Tweet_Text\"\u001b[0m\u001b[0;34m]\u001b[0m\u001b[0;34m,\u001b[0m \u001b[0;34m\" \"\u001b[0m\u001b[0;34m)\u001b[0m\u001b[0;34m)\u001b[0m  \u001b[0;31m# Split text into words\u001b[0m\u001b[0;34m\u001b[0m\u001b[0;34m\u001b[0m\u001b[0m\n",
      "\u001b[0;32m/usr/local/spark/python/pyspark/sql/dataframe.py\u001b[0m in \u001b[0;36m__getitem__\u001b[0;34m(self, item)\u001b[0m\n\u001b[1;32m   1634\u001b[0m         \"\"\"\n\u001b[1;32m   1635\u001b[0m         \u001b[0;32mif\u001b[0m \u001b[0misinstance\u001b[0m\u001b[0;34m(\u001b[0m\u001b[0mitem\u001b[0m\u001b[0;34m,\u001b[0m \u001b[0mstr\u001b[0m\u001b[0;34m)\u001b[0m\u001b[0;34m:\u001b[0m\u001b[0;34m\u001b[0m\u001b[0;34m\u001b[0m\u001b[0m\n\u001b[0;32m-> 1636\u001b[0;31m             \u001b[0mjc\u001b[0m \u001b[0;34m=\u001b[0m \u001b[0mself\u001b[0m\u001b[0;34m.\u001b[0m\u001b[0m_jdf\u001b[0m\u001b[0;34m.\u001b[0m\u001b[0mapply\u001b[0m\u001b[0;34m(\u001b[0m\u001b[0mitem\u001b[0m\u001b[0;34m)\u001b[0m\u001b[0;34m\u001b[0m\u001b[0;34m\u001b[0m\u001b[0m\n\u001b[0m\u001b[1;32m   1637\u001b[0m             \u001b[0;32mreturn\u001b[0m \u001b[0mColumn\u001b[0m\u001b[0;34m(\u001b[0m\u001b[0mjc\u001b[0m\u001b[0;34m)\u001b[0m\u001b[0;34m\u001b[0m\u001b[0;34m\u001b[0m\u001b[0m\n\u001b[1;32m   1638\u001b[0m         \u001b[0;32melif\u001b[0m \u001b[0misinstance\u001b[0m\u001b[0;34m(\u001b[0m\u001b[0mitem\u001b[0m\u001b[0;34m,\u001b[0m \u001b[0mColumn\u001b[0m\u001b[0;34m)\u001b[0m\u001b[0;34m:\u001b[0m\u001b[0;34m\u001b[0m\u001b[0;34m\u001b[0m\u001b[0m\n",
      "\u001b[0;32m/usr/local/spark/python/lib/py4j-0.10.9.5-src.zip/py4j/java_gateway.py\u001b[0m in \u001b[0;36m__call__\u001b[0;34m(self, *args)\u001b[0m\n\u001b[1;32m   1319\u001b[0m \u001b[0;34m\u001b[0m\u001b[0m\n\u001b[1;32m   1320\u001b[0m         \u001b[0manswer\u001b[0m \u001b[0;34m=\u001b[0m \u001b[0mself\u001b[0m\u001b[0;34m.\u001b[0m\u001b[0mgateway_client\u001b[0m\u001b[0;34m.\u001b[0m\u001b[0msend_command\u001b[0m\u001b[0;34m(\u001b[0m\u001b[0mcommand\u001b[0m\u001b[0;34m)\u001b[0m\u001b[0;34m\u001b[0m\u001b[0;34m\u001b[0m\u001b[0m\n\u001b[0;32m-> 1321\u001b[0;31m         return_value = get_return_value(\n\u001b[0m\u001b[1;32m   1322\u001b[0m             answer, self.gateway_client, self.target_id, self.name)\n\u001b[1;32m   1323\u001b[0m \u001b[0;34m\u001b[0m\u001b[0m\n",
      "\u001b[0;32m/usr/local/spark/python/pyspark/sql/utils.py\u001b[0m in \u001b[0;36mdeco\u001b[0;34m(*a, **kw)\u001b[0m\n\u001b[1;32m    115\u001b[0m                 \u001b[0;31m# Hide where the exception came from that shows a non-Pythonic\u001b[0m\u001b[0;34m\u001b[0m\u001b[0;34m\u001b[0m\u001b[0m\n\u001b[1;32m    116\u001b[0m                 \u001b[0;31m# JVM exception message.\u001b[0m\u001b[0;34m\u001b[0m\u001b[0;34m\u001b[0m\u001b[0m\n\u001b[0;32m--> 117\u001b[0;31m                 \u001b[0;32mraise\u001b[0m \u001b[0mconverted\u001b[0m \u001b[0;32mfrom\u001b[0m \u001b[0;32mNone\u001b[0m\u001b[0;34m\u001b[0m\u001b[0;34m\u001b[0m\u001b[0m\n\u001b[0m\u001b[1;32m    118\u001b[0m             \u001b[0;32melse\u001b[0m\u001b[0;34m:\u001b[0m\u001b[0;34m\u001b[0m\u001b[0;34m\u001b[0m\u001b[0m\n\u001b[1;32m    119\u001b[0m                 \u001b[0;32mraise\u001b[0m\u001b[0;34m\u001b[0m\u001b[0;34m\u001b[0m\u001b[0m\n",
      "\u001b[0;31mAnalysisException\u001b[0m: Cannot resolve column name \"Tweet_Text\" among (Words, Word)"
     ]
    }
   ],
   "source": [
    "import nltk\n",
    "from pyspark.sql.functions import lower, split, explode, regexp_replace, col\n",
    "\n",
    "# Initialize NLTK and download the list of stopwords\n",
    "nltk.download('stopwords')\n",
    "\n",
    "from nltk.corpus import stopwords\n",
    "\n",
    "# Define a list of NLTK stopwords\n",
    "nltk_stopwords = set(stopwords.words('english'))\n",
    "\n",
    "# Assuming you have a DataFrame 'df' with a column 'Tweet_Text'\n",
    "# Preprocess the text data\n",
    "df = df.withColumn(\"Tweet_Text\", lower(df[\"Tweet_Text\"]))  # Convert to lowercase\n",
    "df = df.withColumn(\"Tweet_Text\", regexp_replace(df[\"Tweet_Text\"], r\"[^a-z\\s]\", \"\"))  # Remove non-alphabetic characters\n",
    "df = df.withColumn(\"Words\", split(df[\"Tweet_Text\"], \" \"))  # Split text into words\n",
    "\n",
    "# Explode the array of words into separate rows\n",
    "df = df.select(\"Words\").withColumn(\"Word\", explode(df[\"Words\"]))\n",
    "\n",
    "# Filter out NLTK stopwords\n",
    "df = df.filter(~col(\"Word\").isin(nltk_stopwords))\n",
    "\n",
    "# Group by and count word frequencies\n",
    "word_counts = df.groupBy(\"Word\").count()\n",
    "\n",
    "# Sort words by frequency\n",
    "word_counts = word_counts.orderBy(\"count\", ascending=False)\n"
   ]
  },
  {
   "cell_type": "code",
   "execution_count": null,
   "id": "658f1dfc",
   "metadata": {},
   "outputs": [],
   "source": [
    "from pyspark.ml.feature import Tokenizer, StopWordsRemover\n",
    "from pyspark.sql import SparkSession\n",
    "\n",
    "# Tokenize the \"Tweet_Text\" column\n",
    "tokenizer = Tokenizer(inputCol=\"Tweet_Text\", outputCol=\"words\")\n",
    "filtered_df = tokenizer.transform(filtered_df)\n",
    "\n",
    "# Remove stopwords from the \"words\" column\n",
    "stopwords_remover = StopWordsRemover(inputCol=\"words\", outputCol=\"filtered_text\")\n",
    "filtered_df = stopwords_remover.transform(filtered_df)\n",
    "\n",
    "# Show the modified DataFrame\n",
    "filtered_df.show()"
   ]
  },
  {
   "cell_type": "code",
   "execution_count": null,
   "id": "905bc956",
   "metadata": {},
   "outputs": [],
   "source": [
    "result = filtered_df.select(\"filtered_text\")\n",
    "\n",
    "# Show the content of column \"Tweet_Text\"\n",
    "result.show(truncate=False)"
   ]
  },
  {
   "cell_type": "code",
   "execution_count": null,
   "id": "1912d4b3",
   "metadata": {},
   "outputs": [],
   "source": []
  }
 ],
 "metadata": {
  "kernelspec": {
   "display_name": "Python 3 (ipykernel)",
   "language": "python",
   "name": "python3"
  },
  "language_info": {
   "codemirror_mode": {
    "name": "ipython",
    "version": 3
   },
   "file_extension": ".py",
   "mimetype": "text/x-python",
   "name": "python",
   "nbconvert_exporter": "python",
   "pygments_lexer": "ipython3",
   "version": "3.10.12"
  }
 },
 "nbformat": 4,
 "nbformat_minor": 5
}
