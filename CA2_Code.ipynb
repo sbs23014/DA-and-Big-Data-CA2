{
 "cells": [
  {
   "cell_type": "code",
   "execution_count": 1,
   "id": "1a5aed51",
   "metadata": {},
   "outputs": [],
   "source": [
    "from pyspark.sql.types import *"
   ]
  },
  {
   "cell_type": "code",
   "execution_count": 2,
   "id": "b69ac448",
   "metadata": {},
   "outputs": [],
   "source": [
    "customSchema = StructType([\n",
    "    StructField(\"Primary_Index\", IntegerType(), True), \n",
    "    StructField(\"Tweet_Id\", StringType(), True), \n",
    "    StructField(\"Date_Text\", StringType(), True),\n",
    "    StructField(\"Flag\", StringType(), True), \n",
    "    StructField(\"User\", StringType(), True),\n",
    "    StructField(\"Tweet_Text\", StringType(), True)])\n",
    "\n",
    "df = spark.read.load('hdfs://localhost:9000/CA2/ProjectTweets.csv', format=\"csv\", header=\"False\", sep=',', schema=customSchema)\n",
    "\n"
   ]
  },
  {
   "cell_type": "code",
   "execution_count": 3,
   "id": "6bb02d9d",
   "metadata": {},
   "outputs": [],
   "source": [
    "##Remove commas from the Tweet Text field\n",
    "##First test an example"
   ]
  },
  {
   "cell_type": "code",
   "execution_count": 4,
   "id": "ba0bb486",
   "metadata": {},
   "outputs": [
    {
     "name": "stderr",
     "output_type": "stream",
     "text": [
      "[Stage 1:>                                                          (0 + 1) / 1]\r"
     ]
    },
    {
     "name": "stdout",
     "output_type": "stream",
     "text": [
      "+---------------------------------------------------------------------------------------------------+\n",
      "|Tweet_Text                                                                                         |\n",
      "+---------------------------------------------------------------------------------------------------+\n",
      "|@LOLTrish hey  long time no see! Yes.. Rains a bit ,only a bit  LOL , I'm fine thanks , how's you ?|\n",
      "+---------------------------------------------------------------------------------------------------+\n",
      "\n"
     ]
    },
    {
     "name": "stderr",
     "output_type": "stream",
     "text": [
      "\r",
      "                                                                                \r"
     ]
    }
   ],
   "source": [
    "filtered_df = df.filter(df[\"Tweet_Id\"] == '1467811594')\n",
    "# Select only the \"Tweet_Text\" column from the filtered DataFrame\n",
    "result = filtered_df.select(\"Tweet_Text\")\n",
    "\n",
    "# Show the content of column \"Tweet_Text\"\n",
    "result.show(truncate=False)"
   ]
  },
  {
   "cell_type": "code",
   "execution_count": 5,
   "id": "2fcd4f5c",
   "metadata": {},
   "outputs": [],
   "source": [
    "##Then strip the commas out"
   ]
  },
  {
   "cell_type": "code",
   "execution_count": 6,
   "id": "1ec30428",
   "metadata": {},
   "outputs": [
    {
     "name": "stderr",
     "output_type": "stream",
     "text": [
      "[Stage 3:>                                                          (0 + 1) / 1]\r"
     ]
    },
    {
     "name": "stdout",
     "output_type": "stream",
     "text": [
      "+------------------------------------------------------------------------------------------------+\n",
      "|Tweet_Text                                                                                      |\n",
      "+------------------------------------------------------------------------------------------------+\n",
      "|@LOLTrish hey  long time no see! Yes.. Rains a bit only a bit  LOL  I'm fine thanks  how's you ?|\n",
      "+------------------------------------------------------------------------------------------------+\n",
      "\n"
     ]
    },
    {
     "name": "stderr",
     "output_type": "stream",
     "text": [
      "\r",
      "                                                                                \r"
     ]
    }
   ],
   "source": [
    "from pyspark.sql.functions import regexp_replace\n",
    "# Remove commas from the \"Tweet_Text\" column\n",
    "\n",
    "filtered_df = df.filter(df[\"Tweet_Id\"] == '1467811594')\n",
    "\n",
    "filtered_df = filtered_df.withColumn(\"Tweet_Text\", regexp_replace(filtered_df[\"Tweet_Text\"], \",\", \"\"))\n",
    "\n",
    "# Select only the \"Tweet_Text\" column from the filtered DataFrame\n",
    "result = filtered_df.select(\"Tweet_Text\")\n",
    "\n",
    "# Show the content of column \"Tweet_Text\"\n",
    "result.show(truncate=False)"
   ]
  },
  {
   "cell_type": "code",
   "execution_count": 7,
   "id": "2d2fa28a",
   "metadata": {},
   "outputs": [],
   "source": [
    "##Now do it with all the rows"
   ]
  },
  {
   "cell_type": "code",
   "execution_count": 8,
   "id": "1888c682",
   "metadata": {},
   "outputs": [],
   "source": [
    "df = df.withColumn(\"Tweet_Text\", regexp_replace(df[\"Tweet_Text\"], \",\", \"\"))"
   ]
  },
  {
   "cell_type": "code",
   "execution_count": 9,
   "id": "622797b5",
   "metadata": {},
   "outputs": [
    {
     "name": "stderr",
     "output_type": "stream",
     "text": [
      "[Stage 5:>                                                          (0 + 1) / 1]\r"
     ]
    },
    {
     "name": "stdout",
     "output_type": "stream",
     "text": [
      "+------------------------------------------------------------------------------------------------+\n",
      "|Tweet_Text                                                                                      |\n",
      "+------------------------------------------------------------------------------------------------+\n",
      "|@LOLTrish hey  long time no see! Yes.. Rains a bit only a bit  LOL  I'm fine thanks  how's you ?|\n",
      "+------------------------------------------------------------------------------------------------+\n",
      "\n"
     ]
    },
    {
     "name": "stderr",
     "output_type": "stream",
     "text": [
      "\r",
      "                                                                                \r"
     ]
    }
   ],
   "source": [
    "filtered_df = df.filter(df[\"Tweet_Id\"] == '1467811594')\n",
    "# Select only the \"Tweet_Text\" column from the filtered DataFrame\n",
    "result = filtered_df.select(\"Tweet_Text\")\n",
    "\n",
    "# Show the content of column \"Tweet_Text\"\n",
    "result.show(truncate=False)"
   ]
  },
  {
   "cell_type": "code",
   "execution_count": 10,
   "id": "9aa63413",
   "metadata": {},
   "outputs": [
    {
     "name": "stderr",
     "output_type": "stream",
     "text": [
      "[Stage 21:>                                                         (0 + 2) / 2]\r"
     ]
    },
    {
     "name": "stdout",
     "output_type": "stream",
     "text": [
      "Max length of Primary_Index: 7\n",
      "Max length of Tweet_Id: 10\n",
      "Max length of Date_Text: 28\n",
      "Max length of Flag: 8\n",
      "Max length of User: 15\n",
      "Max length of Tweet_Text: 374\n"
     ]
    },
    {
     "name": "stderr",
     "output_type": "stream",
     "text": [
      "\r",
      "                                                                                \r"
     ]
    }
   ],
   "source": [
    "\n",
    "# Calculate the max length of each column\n",
    "from pyspark.sql.functions import max, length\n",
    "max_lengths = []\n",
    "\n",
    "for column_name in df.columns:\n",
    "    max_length = df.agg(max(length(column_name))).collect()[0][0]\n",
    "    max_lengths.append((column_name, max_length))\n",
    "\n",
    "# Display the results\n",
    "for col, max_len in max_lengths:\n",
    "    print(f\"Max length of {col}: {max_len}\")"
   ]
  },
  {
   "cell_type": "code",
   "execution_count": 11,
   "id": "4388a592",
   "metadata": {},
   "outputs": [
    {
     "name": "stderr",
     "output_type": "stream",
     "text": [
      "[Stage 39:>                                                         (0 + 2) / 2]\r"
     ]
    },
    {
     "name": "stdout",
     "output_type": "stream",
     "text": [
      "Number of null values in Primary_Index: 0\n",
      "Number of null values in Tweet_Id: 0\n",
      "Number of null values in Date_Text: 0\n",
      "Number of null values in Flag: 0\n",
      "Number of null values in User: 0\n",
      "Number of null values in Tweet_Text: 0\n"
     ]
    },
    {
     "name": "stderr",
     "output_type": "stream",
     "text": [
      "\r",
      "[Stage 39:=============================>                            (1 + 1) / 2]\r",
      "\r",
      "                                                                                \r"
     ]
    }
   ],
   "source": [
    "from pyspark.sql.functions import col, sum\n",
    "\n",
    "# Count null values in each column\n",
    "null_counts = []\n",
    "\n",
    "for column_name in df.columns:\n",
    "    count = df.select(column_name).where(col(column_name).isNull()).count()\n",
    "    null_counts.append((column_name, count))\n",
    "\n",
    "# Display the results\n",
    "for col, count in null_counts:\n",
    "    print(f\"Number of null values in {col}: {count}\")"
   ]
  },
  {
   "cell_type": "code",
   "execution_count": 12,
   "id": "beb930ba",
   "metadata": {},
   "outputs": [
    {
     "name": "stderr",
     "output_type": "stream",
     "text": [
      "[Stage 74:>                                                         (0 + 2) / 2]\r"
     ]
    },
    {
     "name": "stdout",
     "output_type": "stream",
     "text": [
      "Number of unique values in Primary_Index: 1600000\n",
      "Number of unique values in Tweet_Id: 1598315\n",
      "Number of unique values in Date_Text: 774363\n",
      "Number of unique values in Flag: 1\n",
      "Number of unique values in User: 659775\n",
      "Number of unique values in Tweet_Text: 1581312\n"
     ]
    },
    {
     "name": "stderr",
     "output_type": "stream",
     "text": [
      "\r",
      "                                                                                \r"
     ]
    }
   ],
   "source": [
    "from pyspark.sql.functions import countDistinct\n",
    "\n",
    "# Calculate the number of unique values in each column\n",
    "unique_counts = []\n",
    "\n",
    "for column_name in df.columns:\n",
    "    count = df.agg(countDistinct(column_name)).collect()[0][0]\n",
    "    unique_counts.append((column_name, count))\n",
    "\n",
    "# Display the results\n",
    "for col, count in unique_counts:\n",
    "    print(f\"Number of unique values in {col}: {count}\")"
   ]
  },
  {
   "cell_type": "code",
   "execution_count": 13,
   "id": "7065ca3c",
   "metadata": {},
   "outputs": [
    {
     "name": "stderr",
     "output_type": "stream",
     "text": [
      "[Stage 78:=============================>                            (1 + 1) / 2]\r"
     ]
    },
    {
     "name": "stdout",
     "output_type": "stream",
     "text": [
      "+----------+-----+\n",
      "|  Tweet_Id|count|\n",
      "+----------+-----+\n",
      "|1469531660|    2|\n",
      "+----------+-----+\n",
      "\n"
     ]
    },
    {
     "name": "stderr",
     "output_type": "stream",
     "text": [
      "\r",
      "[Stage 80:>                                                         (0 + 2) / 2]\r",
      "\r",
      "                                                                                \r"
     ]
    }
   ],
   "source": [
    "from pyspark.sql.functions import col\n",
    "# Find and display an example record with duplicated \"Tweet_Id\"\n",
    "duplicate_tweet_id_example = df.groupBy(\"Tweet_Id\").count().filter(col(\"count\") > 1).limit(1)\n",
    "\n",
    "# Display the result\n",
    "duplicate_tweet_id_example.show()"
   ]
  },
  {
   "cell_type": "code",
   "execution_count": 14,
   "id": "0bf779b6",
   "metadata": {},
   "outputs": [
    {
     "name": "stderr",
     "output_type": "stream",
     "text": [
      "[Stage 85:>                                                         (0 + 1) / 1]\r"
     ]
    },
    {
     "name": "stdout",
     "output_type": "stream",
     "text": [
      "+-------------+----------+----------------------------+--------+------------+-----------------------------------------------------------------+\n",
      "|Primary_Index|Tweet_Id  |Date_Text                   |Flag    |User        |Tweet_Text                                                       |\n",
      "+-------------+----------+----------------------------+--------+------------+-----------------------------------------------------------------+\n",
      "|6730         |1469531660|Tue Apr 07 06:39:53 PDT 2009|NO_QUERY|appleaddicto|Company blocked Twitter today  oh well i still have it on mobile |\n",
      "|809639       |1469531660|Tue Apr 07 06:39:53 PDT 2009|NO_QUERY|appleaddicto|Company blocked Twitter today  oh well i still have it on mobile |\n",
      "+-------------+----------+----------------------------+--------+------------+-----------------------------------------------------------------+\n",
      "\n"
     ]
    },
    {
     "name": "stderr",
     "output_type": "stream",
     "text": [
      "\r",
      "                                                                                \r"
     ]
    }
   ],
   "source": [
    "# Find and display all records with the Tweet_Id \"1469531660\"\n",
    "matching_records = df.filter(col(\"Tweet_Id\") == \"1469531660\")\n",
    "\n",
    "# Display the matching records\n",
    "matching_records.show(truncate=False)"
   ]
  },
  {
   "cell_type": "code",
   "execution_count": 15,
   "id": "7c469069",
   "metadata": {},
   "outputs": [],
   "source": [
    "# Create a DataFrame with unique records\n",
    "unique_records_df = df.dropDuplicates([\"Tweet_Id\", \"Date_Text\", \"Flag\", \"User\", \"Tweet_Text\"])\n"
   ]
  },
  {
   "cell_type": "code",
   "execution_count": 16,
   "id": "3f72334b",
   "metadata": {},
   "outputs": [
    {
     "name": "stderr",
     "output_type": "stream",
     "text": [
      "2023-11-06 19:27:48,571 WARN expressions.RowBasedKeyValueBatch: Calling spill() on RowBasedKeyValueBatch. Will not spill but return 0.\n",
      "2023-11-06 19:27:48,672 WARN expressions.RowBasedKeyValueBatch: Calling spill() on RowBasedKeyValueBatch. Will not spill but return 0.\n",
      "2023-11-06 19:27:48,942 WARN expressions.RowBasedKeyValueBatch: Calling spill() on RowBasedKeyValueBatch. Will not spill but return 0.\n",
      "2023-11-06 19:27:49,102 WARN expressions.RowBasedKeyValueBatch: Calling spill() on RowBasedKeyValueBatch. Will not spill but return 0.\n",
      "[Stage 120:============================>                            (1 + 1) / 2]\r"
     ]
    },
    {
     "name": "stdout",
     "output_type": "stream",
     "text": [
      "Number of unique values in Primary_Index: 1598315\n",
      "Number of unique values in Tweet_Id: 1598315\n",
      "Number of unique values in Date_Text: 774363\n",
      "Number of unique values in Flag: 1\n",
      "Number of unique values in User: 659775\n",
      "Number of unique values in Tweet_Text: 1581312\n"
     ]
    },
    {
     "name": "stderr",
     "output_type": "stream",
     "text": [
      "\r",
      "[Stage 122:============================>                            (1 + 1) / 2]\r",
      "\r",
      "                                                                                \r"
     ]
    }
   ],
   "source": [
    "# Calculate the number of unique values in each column\n",
    "unique_counts = []\n",
    "\n",
    "for column_name in df.columns:\n",
    "    count = unique_records_df.agg(countDistinct(column_name)).collect()[0][0]\n",
    "    unique_counts.append((column_name, count))\n",
    "\n",
    "# Display the results\n",
    "for col, count in unique_counts:\n",
    "    print(f\"Number of unique values in {col}: {count}\")"
   ]
  },
  {
   "cell_type": "code",
   "execution_count": 17,
   "id": "41641c95",
   "metadata": {},
   "outputs": [
    {
     "name": "stderr",
     "output_type": "stream",
     "text": [
      "2023-11-06 19:28:31,248 WARN expressions.RowBasedKeyValueBatch: Calling spill() on RowBasedKeyValueBatch. Will not spill but return 0.\n",
      "2023-11-06 19:28:31,381 WARN expressions.RowBasedKeyValueBatch: Calling spill() on RowBasedKeyValueBatch. Will not spill but return 0.\n",
      "2023-11-06 19:28:31,618 WARN expressions.RowBasedKeyValueBatch: Calling spill() on RowBasedKeyValueBatch. Will not spill but return 0.\n",
      "2023-11-06 19:28:31,716 WARN expressions.RowBasedKeyValueBatch: Calling spill() on RowBasedKeyValueBatch. Will not spill but return 0.\n",
      "[Stage 130:>                                                        (0 + 2) / 2]\r"
     ]
    },
    {
     "name": "stdout",
     "output_type": "stream",
     "text": [
      "+-------------+----------+----------------------------+--------+------------+-----------------------------------------------------------------+\n",
      "|Primary_Index|Tweet_Id  |Date_Text                   |Flag    |User        |Tweet_Text                                                       |\n",
      "+-------------+----------+----------------------------+--------+------------+-----------------------------------------------------------------+\n",
      "|6730         |1469531660|Tue Apr 07 06:39:53 PDT 2009|NO_QUERY|appleaddicto|Company blocked Twitter today  oh well i still have it on mobile |\n",
      "+-------------+----------+----------------------------+--------+------------+-----------------------------------------------------------------+\n",
      "\n"
     ]
    },
    {
     "name": "stderr",
     "output_type": "stream",
     "text": [
      "\r",
      "                                                                                \r"
     ]
    }
   ],
   "source": [
    "from pyspark.sql.functions import col\n",
    "# Find and display all records with the Tweet_Id \"1469531660\"\n",
    "matching_records = unique_records_df.filter(col(\"Tweet_Id\") == \"1469531660\")\n",
    "\n",
    "# Display the matching records\n",
    "matching_records.show(truncate=False)"
   ]
  },
  {
   "cell_type": "code",
   "execution_count": 18,
   "id": "18036c7a",
   "metadata": {},
   "outputs": [],
   "source": [
    "df = unique_records_df"
   ]
  },
  {
   "cell_type": "code",
   "execution_count": 19,
   "id": "4fdd6bfa",
   "metadata": {},
   "outputs": [
    {
     "name": "stderr",
     "output_type": "stream",
     "text": [
      "\r",
      "[Stage 131:>                                                        (0 + 2) / 2]\r"
     ]
    },
    {
     "name": "stdout",
     "output_type": "stream",
     "text": [
      "+--------------------+\n",
      "|Date_Text_Characters|\n",
      "+--------------------+\n",
      "|                 PDT|\n",
      "+--------------------+\n",
      "\n"
     ]
    },
    {
     "name": "stderr",
     "output_type": "stream",
     "text": [
      "\r",
      "                                                                                \r"
     ]
    }
   ],
   "source": [
    "# Extract characters at positions 21, 22, and 23 and select unique values\n",
    "from pyspark.sql.functions import substring\n",
    "unique_characters = df.select(substring(\"Date_Text\", 21, 3).alias(\"Date_Text_Characters\")).distinct()\n",
    "\n",
    "# Show the unique characters\n",
    "unique_characters.show()"
   ]
  },
  {
   "cell_type": "code",
   "execution_count": 20,
   "id": "4cd47077",
   "metadata": {},
   "outputs": [],
   "source": [
    "\n",
    "df =df.withColumn(\"Year\", df.Date_Text.substr(-4, 4))\n",
    "df = df.withColumn(\"Month\", df.Date_Text.substr(5, 3))\n",
    "df = df.withColumn(\"Day\", df.Date_Text.substr(9, 2))"
   ]
  },
  {
   "cell_type": "code",
   "execution_count": 21,
   "id": "9436edc9",
   "metadata": {},
   "outputs": [
    {
     "name": "stderr",
     "output_type": "stream",
     "text": [
      "2023-11-06 19:28:52,781 WARN expressions.RowBasedKeyValueBatch: Calling spill() on RowBasedKeyValueBatch. Will not spill but return 0.\n",
      "2023-11-06 19:28:52,820 WARN expressions.RowBasedKeyValueBatch: Calling spill() on RowBasedKeyValueBatch. Will not spill but return 0.\n",
      "2023-11-06 19:28:53,129 WARN expressions.RowBasedKeyValueBatch: Calling spill() on RowBasedKeyValueBatch. Will not spill but return 0.\n",
      "2023-11-06 19:28:53,155 WARN expressions.RowBasedKeyValueBatch: Calling spill() on RowBasedKeyValueBatch. Will not spill but return 0.\n",
      "[Stage 136:>                                                        (0 + 1) / 1]\r"
     ]
    },
    {
     "name": "stdout",
     "output_type": "stream",
     "text": [
      "+-------------+----------+--------------------+--------+--------------+--------------------+----+-----+---+\n",
      "|Primary_Index|  Tweet_Id|           Date_Text|    Flag|          User|          Tweet_Text|Year|Month|Day|\n",
      "+-------------+----------+--------------------+--------+--------------+--------------------+----+-----+---+\n",
      "|          263|1467878557|Mon Apr 06 22:37:...|NO_QUERY|    tshamysboo|dierks bentley is...|2009|  Apr| 06|\n",
      "|          679|1467982795|Mon Apr 06 23:06:...|NO_QUERY|      TiffinyB|I am home missing...|2009|  Apr| 06|\n",
      "|         1354|1468135579|Mon Apr 06 23:54:...|NO_QUERY|       sasi263|On a diet.... Wok...|2009|  Apr| 06|\n",
      "|         1486|1468163163|Tue Apr 07 00:03:...|NO_QUERY|     olivejina|        @oishiieats |2009|  Apr| 07|\n",
      "|         1636|1468201547|Tue Apr 07 00:16:...|NO_QUERY|      dirrtyxx|@Kal_Penn OMG I a...|2009|  Apr| 07|\n",
      "|         1685|1468210391|Tue Apr 07 00:19:...|NO_QUERY|        mistac|Back at :work hav...|2009|  Apr| 07|\n",
      "|         1787|1468233030|Tue Apr 07 00:26:...|NO_QUERY|simon_marshall|Not even 8.30am a...|2009|  Apr| 07|\n",
      "|         1947|1468268543|Tue Apr 07 00:38:...|NO_QUERY|      iliPahgz| Heroes is losing...|2009|  Apr| 07|\n",
      "|         1969|1468276361|Tue Apr 07 00:41:...|NO_QUERY|        Sholaa|@dadi_iyal and yo...|2009|  Apr| 07|\n",
      "|         2024|1468287881|Tue Apr 07 00:45:...|NO_QUERY|     salogel42|owww.... just hit...|2009|  Apr| 07|\n",
      "+-------------+----------+--------------------+--------+--------------+--------------------+----+-----+---+\n",
      "only showing top 10 rows\n",
      "\n"
     ]
    },
    {
     "name": "stderr",
     "output_type": "stream",
     "text": [
      "\r",
      "                                                                                \r"
     ]
    }
   ],
   "source": [
    "df.show(10)"
   ]
  },
  {
   "cell_type": "code",
   "execution_count": 22,
   "id": "fc901da0",
   "metadata": {},
   "outputs": [
    {
     "name": "stderr",
     "output_type": "stream",
     "text": [
      "\r",
      "[Stage 137:>                                                        (0 + 2) / 2]\r"
     ]
    },
    {
     "name": "stdout",
     "output_type": "stream",
     "text": [
      "+-----+\n",
      "|Month|\n",
      "+-----+\n",
      "|  May|\n",
      "|  Jun|\n",
      "|  Apr|\n",
      "+-----+\n",
      "\n"
     ]
    },
    {
     "name": "stderr",
     "output_type": "stream",
     "text": [
      "\r",
      "                                                                                \r"
     ]
    }
   ],
   "source": [
    "# Use the `distinct` method to get unique values in the \"Month\" column\n",
    "unique_months = df.select(\"Month\").distinct()\n",
    "\n",
    "# Show the unique values\n",
    "unique_months.show()"
   ]
  },
  {
   "cell_type": "code",
   "execution_count": 23,
   "id": "a44d551d",
   "metadata": {},
   "outputs": [
    {
     "name": "stderr",
     "output_type": "stream",
     "text": [
      "2023-11-06 19:29:11,638 WARN expressions.RowBasedKeyValueBatch: Calling spill() on RowBasedKeyValueBatch. Will not spill but return 0.\n",
      "2023-11-06 19:29:11,924 WARN expressions.RowBasedKeyValueBatch: Calling spill() on RowBasedKeyValueBatch. Will not spill but return 0.\n",
      "2023-11-06 19:29:12,037 WARN expressions.RowBasedKeyValueBatch: Calling spill() on RowBasedKeyValueBatch. Will not spill but return 0.\n",
      "2023-11-06 19:29:12,418 WARN expressions.RowBasedKeyValueBatch: Calling spill() on RowBasedKeyValueBatch. Will not spill but return 0.\n",
      "[Stage 142:>                                                        (0 + 1) / 1]\r"
     ]
    },
    {
     "name": "stdout",
     "output_type": "stream",
     "text": [
      "+-------------+----------+--------------------+--------+--------------+--------------------+----+-----+---+\n",
      "|Primary_Index|  Tweet_Id|           Date_Text|    Flag|          User|          Tweet_Text|Year|Month|Day|\n",
      "+-------------+----------+--------------------+--------+--------------+--------------------+----+-----+---+\n",
      "|          263|1467878557|Mon Apr 06 22:37:...|NO_QUERY|    tshamysboo|dierks bentley is...|2009|   04| 06|\n",
      "|          679|1467982795|Mon Apr 06 23:06:...|NO_QUERY|      TiffinyB|I am home missing...|2009|   04| 06|\n",
      "|         1354|1468135579|Mon Apr 06 23:54:...|NO_QUERY|       sasi263|On a diet.... Wok...|2009|   04| 06|\n",
      "|         1486|1468163163|Tue Apr 07 00:03:...|NO_QUERY|     olivejina|        @oishiieats |2009|   04| 07|\n",
      "|         1636|1468201547|Tue Apr 07 00:16:...|NO_QUERY|      dirrtyxx|@Kal_Penn OMG I a...|2009|   04| 07|\n",
      "|         1685|1468210391|Tue Apr 07 00:19:...|NO_QUERY|        mistac|Back at :work hav...|2009|   04| 07|\n",
      "|         1787|1468233030|Tue Apr 07 00:26:...|NO_QUERY|simon_marshall|Not even 8.30am a...|2009|   04| 07|\n",
      "|         1947|1468268543|Tue Apr 07 00:38:...|NO_QUERY|      iliPahgz| Heroes is losing...|2009|   04| 07|\n",
      "|         1969|1468276361|Tue Apr 07 00:41:...|NO_QUERY|        Sholaa|@dadi_iyal and yo...|2009|   04| 07|\n",
      "|         2024|1468287881|Tue Apr 07 00:45:...|NO_QUERY|     salogel42|owww.... just hit...|2009|   04| 07|\n",
      "+-------------+----------+--------------------+--------+--------------+--------------------+----+-----+---+\n",
      "only showing top 10 rows\n",
      "\n"
     ]
    },
    {
     "name": "stderr",
     "output_type": "stream",
     "text": [
      "\r",
      "                                                                                \r"
     ]
    }
   ],
   "source": [
    "from pyspark.sql.functions import when, lit\n",
    "\n",
    "# Use the `when` and `lit` functions to replace values in the \"Month\" column\n",
    "df = df.withColumn(\"Month\", when(df[\"Month\"] == \"May\", lit(\"05\"))\n",
    "                        .when(df[\"Month\"] == \"Apr\", lit(\"04\"))\n",
    "                        .when(df[\"Month\"] == \"Jun\", lit(\"06\"))\n",
    "                        .otherwise(df[\"Month\"]))\n",
    "\n",
    "# Show the updated DataFrame\n",
    "df.show(10)"
   ]
  },
  {
   "cell_type": "code",
   "execution_count": 24,
   "id": "8c6f781a",
   "metadata": {},
   "outputs": [
    {
     "name": "stderr",
     "output_type": "stream",
     "text": [
      "2023-11-06 19:29:25,672 WARN expressions.RowBasedKeyValueBatch: Calling spill() on RowBasedKeyValueBatch. Will not spill but return 0.\n",
      "2023-11-06 19:29:25,818 WARN expressions.RowBasedKeyValueBatch: Calling spill() on RowBasedKeyValueBatch. Will not spill but return 0.\n",
      "2023-11-06 19:29:25,989 WARN expressions.RowBasedKeyValueBatch: Calling spill() on RowBasedKeyValueBatch. Will not spill but return 0.\n",
      "2023-11-06 19:29:26,109 WARN expressions.RowBasedKeyValueBatch: Calling spill() on RowBasedKeyValueBatch. Will not spill but return 0.\n",
      "[Stage 145:>                                                        (0 + 1) / 1]\r"
     ]
    },
    {
     "name": "stdout",
     "output_type": "stream",
     "text": [
      "+-------------+----------+--------------------+--------+--------------+--------------------+----+-----+---+----------+\n",
      "|Primary_Index|  Tweet_Id|           Date_Text|    Flag|          User|          Tweet_Text|Year|Month|Day|      Date|\n",
      "+-------------+----------+--------------------+--------+--------------+--------------------+----+-----+---+----------+\n",
      "|          263|1467878557|Mon Apr 06 22:37:...|NO_QUERY|    tshamysboo|dierks bentley is...|2009|   04| 06|2009-04-06|\n",
      "|          679|1467982795|Mon Apr 06 23:06:...|NO_QUERY|      TiffinyB|I am home missing...|2009|   04| 06|2009-04-06|\n",
      "|         1354|1468135579|Mon Apr 06 23:54:...|NO_QUERY|       sasi263|On a diet.... Wok...|2009|   04| 06|2009-04-06|\n",
      "|         1486|1468163163|Tue Apr 07 00:03:...|NO_QUERY|     olivejina|        @oishiieats |2009|   04| 07|2009-04-07|\n",
      "|         1636|1468201547|Tue Apr 07 00:16:...|NO_QUERY|      dirrtyxx|@Kal_Penn OMG I a...|2009|   04| 07|2009-04-07|\n",
      "|         1685|1468210391|Tue Apr 07 00:19:...|NO_QUERY|        mistac|Back at :work hav...|2009|   04| 07|2009-04-07|\n",
      "|         1787|1468233030|Tue Apr 07 00:26:...|NO_QUERY|simon_marshall|Not even 8.30am a...|2009|   04| 07|2009-04-07|\n",
      "|         1947|1468268543|Tue Apr 07 00:38:...|NO_QUERY|      iliPahgz| Heroes is losing...|2009|   04| 07|2009-04-07|\n",
      "|         1969|1468276361|Tue Apr 07 00:41:...|NO_QUERY|        Sholaa|@dadi_iyal and yo...|2009|   04| 07|2009-04-07|\n",
      "|         2024|1468287881|Tue Apr 07 00:45:...|NO_QUERY|     salogel42|owww.... just hit...|2009|   04| 07|2009-04-07|\n",
      "+-------------+----------+--------------------+--------+--------------+--------------------+----+-----+---+----------+\n",
      "only showing top 10 rows\n",
      "\n"
     ]
    },
    {
     "name": "stderr",
     "output_type": "stream",
     "text": [
      "\r",
      "                                                                                \r"
     ]
    }
   ],
   "source": [
    "from pyspark.sql.functions import concat_ws, expr\n",
    "from pyspark.sql.types import StringType\n",
    "\n",
    "# Convert the \"Year,\" \"Month,\" and \"Day\" columns to string type\n",
    "df = df.withColumn(\"Year\", df[\"Year\"].cast(StringType()))\n",
    "df = df.withColumn(\"Month\", df[\"Month\"].cast(StringType()))\n",
    "df = df.withColumn(\"Day\", df[\"Day\"].cast(StringType()))\n",
    "\n",
    "# Use `concat_ws` to concatenate the three columns with \"/\" separator\n",
    "df = df.withColumn(\"Date\", concat_ws(\"/\", df[\"Day\"], df[\"Month\"], df[\"Year\"]))\n",
    "\n",
    "# Use `expr` to cast the concatenated string to a date\n",
    "df = df.withColumn(\"Date\", expr(\"to_date(Date, 'dd/MM/yyyy')\"))\n",
    "\n",
    "# Show the updated DataFrame\n",
    "df.show(10)"
   ]
  },
  {
   "cell_type": "code",
   "execution_count": 25,
   "id": "f14a1017",
   "metadata": {},
   "outputs": [
    {
     "name": "stderr",
     "output_type": "stream",
     "text": [
      "2023-11-06 19:29:39,854 WARN expressions.RowBasedKeyValueBatch: Calling spill() on RowBasedKeyValueBatch. Will not spill but return 0.\n",
      "2023-11-06 19:29:39,894 WARN expressions.RowBasedKeyValueBatch: Calling spill() on RowBasedKeyValueBatch. Will not spill but return 0.\n",
      "2023-11-06 19:29:40,130 WARN expressions.RowBasedKeyValueBatch: Calling spill() on RowBasedKeyValueBatch. Will not spill but return 0.\n",
      "2023-11-06 19:29:40,159 WARN expressions.RowBasedKeyValueBatch: Calling spill() on RowBasedKeyValueBatch. Will not spill but return 0.\n",
      "[Stage 148:>                                                        (0 + 1) / 1]\r"
     ]
    },
    {
     "name": "stdout",
     "output_type": "stream",
     "text": [
      "+-------------+----------+----------------------------+--------+--------------+----------------------------------------------------------------------------------------------------------------------------------------+----+-----+---+----------+\n",
      "|Primary_Index|Tweet_Id  |Date_Text                   |Flag    |User          |Tweet_Text                                                                                                                              |Year|Month|Day|Date      |\n",
      "+-------------+----------+----------------------------+--------+--------------+----------------------------------------------------------------------------------------------------------------------------------------+----+-----+---+----------+\n",
      "|263          |1467878557|Mon Apr 06 22:37:36 PDT 2009|NO_QUERY|tshamysboo    |dierks bentley is comin' to columbus oh!! i wanna go so bad                                                                             |2009|04   |06 |2009-04-06|\n",
      "|679          |1467982795|Mon Apr 06 23:06:42 PDT 2009|NO_QUERY|TiffinyB      |i am home missing my baby  busy week ahead fri is a chill day with my guy and kids egg hunt sat spiral and dmb sat night and easter!    |2009|04   |06 |2009-04-06|\n",
      "|1354         |1468135579|Mon Apr 06 23:54:42 PDT 2009|NO_QUERY|sasi263       |on a diet.... woke up 2day hungry                                                                                                       |2009|04   |06 |2009-04-06|\n",
      "|1486         |1468163163|Tue Apr 07 00:03:36 PDT 2009|NO_QUERY|olivejina     |@oishiieats                                                                                                                             |2009|04   |07 |2009-04-07|\n",
      "|1636         |1468201547|Tue Apr 07 00:16:04 PDT 2009|NO_QUERY|dirrtyxx      |@kal_penn omg i am so mad! you were my favorite character  i'll miss 'you'                                                              |2009|04   |07 |2009-04-07|\n",
      "|1685         |1468210391|Tue Apr 07 00:19:01 PDT 2009|NO_QUERY|mistac        |back at :work have to go to ::zeist in a minute. but want to stay here to do some work                                                  |2009|04   |07 |2009-04-07|\n",
      "|1787         |1468233030|Tue Apr 07 00:26:49 PDT 2009|NO_QUERY|simon_marshall|not even 8.30am and there's far too much noise in the office   should have worked from home today.                                      |2009|04   |07 |2009-04-07|\n",
      "|1947         |1468268543|Tue Apr 07 00:38:59 PDT 2009|NO_QUERY|iliPahgz      | heroes is losing it's momentum ): come on writers pick it up!!!                                                                        |2009|04   |07 |2009-04-07|\n",
      "|1969         |1468276361|Tue Apr 07 00:41:46 PDT 2009|NO_QUERY|Sholaa        |@dadi_iyal and you'll get familiar with twitter pretty soon!!! i'm not coming back this summer so that means i dont even see you then?! |2009|04   |07 |2009-04-07|\n",
      "|2024         |1468287881|Tue Apr 07 00:45:48 PDT 2009|NO_QUERY|salogel42     |owww.... just hit my elbow really hard on a door                                                                                        |2009|04   |07 |2009-04-07|\n",
      "+-------------+----------+----------------------------+--------+--------------+----------------------------------------------------------------------------------------------------------------------------------------+----+-----+---+----------+\n",
      "only showing top 10 rows\n",
      "\n"
     ]
    },
    {
     "name": "stderr",
     "output_type": "stream",
     "text": [
      "\r",
      "                                                                                \r"
     ]
    }
   ],
   "source": [
    "from pyspark.sql.functions import col, lower\n",
    "\n",
    "df = df.withColumn(\"Tweet_Text\", lower(col(\"Tweet_Text\")))\n",
    "df.show(10, truncate = False)"
   ]
  },
  {
   "cell_type": "code",
   "execution_count": 26,
   "id": "e2886bfd",
   "metadata": {},
   "outputs": [
    {
     "name": "stderr",
     "output_type": "stream",
     "text": [
      "2023-11-06 19:29:53,519 WARN expressions.RowBasedKeyValueBatch: Calling spill() on RowBasedKeyValueBatch. Will not spill but return 0.\n",
      "2023-11-06 19:29:53,753 WARN expressions.RowBasedKeyValueBatch: Calling spill() on RowBasedKeyValueBatch. Will not spill but return 0.\n",
      "2023-11-06 19:29:53,774 WARN expressions.RowBasedKeyValueBatch: Calling spill() on RowBasedKeyValueBatch. Will not spill but return 0.\n",
      "2023-11-06 19:29:54,075 WARN expressions.RowBasedKeyValueBatch: Calling spill() on RowBasedKeyValueBatch. Will not spill but return 0.\n",
      "[Stage 151:>                                                        (0 + 1) / 1]\r"
     ]
    },
    {
     "name": "stdout",
     "output_type": "stream",
     "text": [
      "+-------------+----------+----------------------------+--------+--------------+----------------------------------------------------------------------------------------------------------------------------------------+----+-----+---+----------+\n",
      "|Primary_Index|Tweet_Id  |Date_Text                   |Flag    |User          |Tweet_Text                                                                                                                              |Year|Month|Day|Date      |\n",
      "+-------------+----------+----------------------------+--------+--------------+----------------------------------------------------------------------------------------------------------------------------------------+----+-----+---+----------+\n",
      "|263          |1467878557|Mon Apr 06 22:37:36 PDT 2009|NO_QUERY|tshamysboo    |dierks bentley is comin' to columbus oh!! i wanna go so bad                                                                             |2009|04   |06 |2009-04-06|\n",
      "|679          |1467982795|Mon Apr 06 23:06:42 PDT 2009|NO_QUERY|TiffinyB      |i am home missing my baby  busy week ahead fri is a chill day with my guy and kids egg hunt sat spiral and dmb sat night and easter!    |2009|04   |06 |2009-04-06|\n",
      "|1354         |1468135579|Mon Apr 06 23:54:42 PDT 2009|NO_QUERY|sasi263       |on a diet.... woke up 2day hungry                                                                                                       |2009|04   |06 |2009-04-06|\n",
      "|1486         |1468163163|Tue Apr 07 00:03:36 PDT 2009|NO_QUERY|olivejina     |@oishiieats                                                                                                                             |2009|04   |07 |2009-04-07|\n",
      "|1636         |1468201547|Tue Apr 07 00:16:04 PDT 2009|NO_QUERY|dirrtyxx      |@kal_penn omg i am so mad! you were my favorite character  i'll miss 'you'                                                              |2009|04   |07 |2009-04-07|\n",
      "|1685         |1468210391|Tue Apr 07 00:19:01 PDT 2009|NO_QUERY|mistac        |back at :work have to go to ::zeist in a minute. but want to stay here to do some work                                                  |2009|04   |07 |2009-04-07|\n",
      "|1787         |1468233030|Tue Apr 07 00:26:49 PDT 2009|NO_QUERY|simon_marshall|not even 8.30am and there's far too much noise in the office   should have worked from home today.                                      |2009|04   |07 |2009-04-07|\n",
      "|1947         |1468268543|Tue Apr 07 00:38:59 PDT 2009|NO_QUERY|iliPahgz      | heroes is losing it's momentum ): come on writers pick it up!!!                                                                        |2009|04   |07 |2009-04-07|\n",
      "|1969         |1468276361|Tue Apr 07 00:41:46 PDT 2009|NO_QUERY|Sholaa        |@dadi_iyal and you'll get familiar with twitter pretty soon!!! i'm not coming back this summer so that means i dont even see you then?! |2009|04   |07 |2009-04-07|\n",
      "|2024         |1468287881|Tue Apr 07 00:45:48 PDT 2009|NO_QUERY|salogel42     |o just hit my elbow really hard on a door                                                                                               |2009|04   |07 |2009-04-07|\n",
      "+-------------+----------+----------------------------+--------+--------------+----------------------------------------------------------------------------------------------------------------------------------------+----+-----+---+----------+\n",
      "only showing top 10 rows\n",
      "\n"
     ]
    },
    {
     "name": "stderr",
     "output_type": "stream",
     "text": [
      "\r",
      "                                                                                \r"
     ]
    }
   ],
   "source": [
    "from pyspark.sql.functions import col, regexp_replace\n",
    "url_pattern = r'(https?://\\S+|www\\.\\S+)'\n",
    "\n",
    "# Use regexp_replace to remove URLs from the \"Tweet_Text\" column\n",
    "df = df.withColumn(\"Tweet_Text\", regexp_replace(col(\"Tweet_Text\"), url_pattern, ''))\n",
    "df.show(10, truncate = False)"
   ]
  },
  {
   "cell_type": "code",
   "execution_count": 27,
   "id": "26a80285",
   "metadata": {},
   "outputs": [
    {
     "name": "stderr",
     "output_type": "stream",
     "text": [
      "2023-11-06 19:30:07,312 WARN expressions.RowBasedKeyValueBatch: Calling spill() on RowBasedKeyValueBatch. Will not spill but return 0.\n",
      "2023-11-06 19:30:07,386 WARN expressions.RowBasedKeyValueBatch: Calling spill() on RowBasedKeyValueBatch. Will not spill but return 0.\n",
      "2023-11-06 19:30:07,542 WARN expressions.RowBasedKeyValueBatch: Calling spill() on RowBasedKeyValueBatch. Will not spill but return 0.\n",
      "2023-11-06 19:30:07,663 WARN expressions.RowBasedKeyValueBatch: Calling spill() on RowBasedKeyValueBatch. Will not spill but return 0.\n",
      "[Stage 154:>                                                        (0 + 1) / 1]\r"
     ]
    },
    {
     "name": "stdout",
     "output_type": "stream",
     "text": [
      "+-------------+----------+----------------------------+--------+--------------+------------------------------------------------------------------------------------------------------------------------------------+----+-----+---+----------+\n",
      "|Primary_Index|Tweet_Id  |Date_Text                   |Flag    |User          |Tweet_Text                                                                                                                          |Year|Month|Day|Date      |\n",
      "+-------------+----------+----------------------------+--------+--------------+------------------------------------------------------------------------------------------------------------------------------------+----+-----+---+----------+\n",
      "|263          |1467878557|Mon Apr 06 22:37:36 PDT 2009|NO_QUERY|tshamysboo    |dierks bentley is comin' to columbus oh!! i wanna go so bad                                                                         |2009|04   |06 |2009-04-06|\n",
      "|679          |1467982795|Mon Apr 06 23:06:42 PDT 2009|NO_QUERY|TiffinyB      |i am home missing my baby  busy week ahead fri is a chill day with my guy and kids egg hunt sat spiral and dmb sat night and easter!|2009|04   |06 |2009-04-06|\n",
      "|1354         |1468135579|Mon Apr 06 23:54:42 PDT 2009|NO_QUERY|sasi263       |on a diet.... woke up 2day hungry                                                                                                   |2009|04   |06 |2009-04-06|\n",
      "|1486         |1468163163|Tue Apr 07 00:03:36 PDT 2009|NO_QUERY|olivejina     |                                                                                                                                    |2009|04   |07 |2009-04-07|\n",
      "|1636         |1468201547|Tue Apr 07 00:16:04 PDT 2009|NO_QUERY|dirrtyxx      | omg i am so mad! you were my favorite character  i'll miss 'you'                                                                   |2009|04   |07 |2009-04-07|\n",
      "|1685         |1468210391|Tue Apr 07 00:19:01 PDT 2009|NO_QUERY|mistac        |back at :work have to go to ::zeist in a minute. but want to stay here to do some work                                              |2009|04   |07 |2009-04-07|\n",
      "|1787         |1468233030|Tue Apr 07 00:26:49 PDT 2009|NO_QUERY|simon_marshall|not even 8.30am and there's far too much noise in the office   should have worked from home today.                                  |2009|04   |07 |2009-04-07|\n",
      "|1947         |1468268543|Tue Apr 07 00:38:59 PDT 2009|NO_QUERY|iliPahgz      | heroes is losing it's momentum ): come on writers pick it up!!!                                                                    |2009|04   |07 |2009-04-07|\n",
      "|1969         |1468276361|Tue Apr 07 00:41:46 PDT 2009|NO_QUERY|Sholaa        | and you'll get familiar with twitter pretty soon!!! i'm not coming back this summer so that means i dont even see you then?!       |2009|04   |07 |2009-04-07|\n",
      "|2024         |1468287881|Tue Apr 07 00:45:48 PDT 2009|NO_QUERY|salogel42     |o just hit my elbow really hard on a door                                                                                           |2009|04   |07 |2009-04-07|\n",
      "+-------------+----------+----------------------------+--------+--------------+------------------------------------------------------------------------------------------------------------------------------------+----+-----+---+----------+\n",
      "only showing top 10 rows\n",
      "\n"
     ]
    },
    {
     "name": "stderr",
     "output_type": "stream",
     "text": [
      "\r",
      "                                                                                \r"
     ]
    }
   ],
   "source": [
    "from pyspark.sql.functions import col, regexp_replace\n",
    "user_mention_pattern = r'@[\\w]+'\n",
    "\n",
    "# Use regexp_replace to remove user mentions from the \"Tweet_Text\" column\n",
    "df = df.withColumn(\"Tweet_Text\", regexp_replace(col(\"Tweet_Text\"), user_mention_pattern, ''))\n",
    "df.show(10, truncate = False)"
   ]
  },
  {
   "cell_type": "code",
   "execution_count": 28,
   "id": "db147514",
   "metadata": {},
   "outputs": [
    {
     "name": "stderr",
     "output_type": "stream",
     "text": [
      "/usr/lib/python3/dist-packages/scipy/__init__.py:146: UserWarning: A NumPy version >=1.17.3 and <1.25.0 is required for this version of SciPy (detected version 1.26.1\n",
      "  warnings.warn(f\"A NumPy version >={np_minversion} and <{np_maxversion}\"\n",
      "[nltk_data] Downloading package stopwords to /home/hduser/nltk_data...\n",
      "[nltk_data]   Package stopwords is already up-to-date!\n",
      "2023-11-06 19:30:19.930929: I tensorflow/tsl/cuda/cudart_stub.cc:28] Could not find cuda drivers on your machine, GPU will not be used.\n",
      "2023-11-06 19:30:20.333352: E tensorflow/compiler/xla/stream_executor/cuda/cuda_dnn.cc:9342] Unable to register cuDNN factory: Attempting to register factory for plugin cuDNN when one has already been registered\n",
      "2023-11-06 19:30:20.333395: E tensorflow/compiler/xla/stream_executor/cuda/cuda_fft.cc:609] Unable to register cuFFT factory: Attempting to register factory for plugin cuFFT when one has already been registered\n",
      "2023-11-06 19:30:20.335123: E tensorflow/compiler/xla/stream_executor/cuda/cuda_blas.cc:1518] Unable to register cuBLAS factory: Attempting to register factory for plugin cuBLAS when one has already been registered\n",
      "2023-11-06 19:30:20.494286: I tensorflow/tsl/cuda/cudart_stub.cc:28] Could not find cuda drivers on your machine, GPU will not be used.\n",
      "2023-11-06 19:30:20.496022: I tensorflow/core/platform/cpu_feature_guard.cc:182] This TensorFlow binary is optimized to use available CPU instructions in performance-critical operations.\n",
      "To enable the following instructions: AVX2, in other operations, rebuild TensorFlow with the appropriate compiler flags.\n",
      "2023-11-06 19:30:23.105377: W tensorflow/compiler/tf2tensorrt/utils/py_utils.cc:38] TF-TRT Warning: Could not find TensorRT\n"
     ]
    }
   ],
   "source": [
    "import pandas as pd\n",
    "import numpy as np\n",
    "import seaborn as sns\n",
    "import re\n",
    "import string\n",
    "from string import punctuation\n",
    "import nltk\n",
    "from nltk.corpus import stopwords\n",
    "nltk.download('stopwords')\n",
    "\n",
    "\n",
    "import matplotlib.pyplot as plt\n",
    "from sklearn.model_selection import train_test_split\n",
    "from sklearn.feature_extraction.text import CountVectorizer\n",
    "from sklearn.feature_extraction.text import TfidfTransformer\n",
    "\n",
    "import tensorflow as tf\n",
    "from tensorflow.keras.models import Sequential\n",
    "from tensorflow.keras.layers import Dense, Activation, Dropout\n",
    "from tensorflow.keras.callbacks import EarlyStopping"
   ]
  },
  {
   "cell_type": "code",
   "execution_count": 29,
   "id": "04e524f6",
   "metadata": {},
   "outputs": [],
   "source": [
    "def get_text_processing(text):\n",
    "    stpword = stopwords.words('english')\n",
    "    no_punctuation = [char for char in text if char not in string.punctuation]\n",
    "    no_punctuation = ''.join(no_punctuation)\n",
    "    return ' '.join([word for word in no_punctuation.split() if word.lower() not in stpword])"
   ]
  },
  {
   "cell_type": "code",
   "execution_count": 30,
   "id": "b4e9cbda",
   "metadata": {},
   "outputs": [
    {
     "name": "stderr",
     "output_type": "stream",
     "text": [
      "                                                                                \r"
     ]
    }
   ],
   "source": [
    "final_df = df[['Tweet_Id', 'Date', 'Tweet_Text']]\n",
    "sentiment_df = final_df.toPandas()"
   ]
  },
  {
   "cell_type": "code",
   "execution_count": 31,
   "id": "2efaacd2",
   "metadata": {},
   "outputs": [
    {
     "data": {
      "text/html": [
       "<div>\n",
       "<style scoped>\n",
       "    .dataframe tbody tr th:only-of-type {\n",
       "        vertical-align: middle;\n",
       "    }\n",
       "\n",
       "    .dataframe tbody tr th {\n",
       "        vertical-align: top;\n",
       "    }\n",
       "\n",
       "    .dataframe thead th {\n",
       "        text-align: right;\n",
       "    }\n",
       "</style>\n",
       "<table border=\"1\" class=\"dataframe\">\n",
       "  <thead>\n",
       "    <tr style=\"text-align: right;\">\n",
       "      <th></th>\n",
       "      <th>Tweet_Id</th>\n",
       "      <th>Date</th>\n",
       "      <th>Tweet_Text</th>\n",
       "    </tr>\n",
       "  </thead>\n",
       "  <tbody>\n",
       "    <tr>\n",
       "      <th>0</th>\n",
       "      <td>1467878557</td>\n",
       "      <td>2009-04-06</td>\n",
       "      <td>dierks bentley is comin' to columbus oh!! i wa...</td>\n",
       "    </tr>\n",
       "    <tr>\n",
       "      <th>1</th>\n",
       "      <td>1467901424</td>\n",
       "      <td>2009-04-06</td>\n",
       "      <td>this latest episode of newnownext is like full...</td>\n",
       "    </tr>\n",
       "    <tr>\n",
       "      <th>2</th>\n",
       "      <td>1467918595</td>\n",
       "      <td>2009-04-06</td>\n",
       "      <td>casting director called me today she's wicked...</td>\n",
       "    </tr>\n",
       "    <tr>\n",
       "      <th>3</th>\n",
       "      <td>1467982795</td>\n",
       "      <td>2009-04-06</td>\n",
       "      <td>i am home missing my baby  busy week ahead fri...</td>\n",
       "    </tr>\n",
       "    <tr>\n",
       "      <th>4</th>\n",
       "      <td>1468020773</td>\n",
       "      <td>2009-04-06</td>\n",
       "      <td>good post.</td>\n",
       "    </tr>\n",
       "    <tr>\n",
       "      <th>5</th>\n",
       "      <td>1468021367</td>\n",
       "      <td>2009-04-06</td>\n",
       "      <td>back on the 7am train ... rubbish! only for 3 ...</td>\n",
       "    </tr>\n",
       "    <tr>\n",
       "      <th>6</th>\n",
       "      <td>1468023239</td>\n",
       "      <td>2009-04-06</td>\n",
       "      <td>day 2 is almost over!  i can't wait to eat wad...</td>\n",
       "    </tr>\n",
       "    <tr>\n",
       "      <th>7</th>\n",
       "      <td>1468036593</td>\n",
       "      <td>2009-04-06</td>\n",
       "      <td>i'm sure if i saw you i'd think you're way li...</td>\n",
       "    </tr>\n",
       "    <tr>\n",
       "      <th>8</th>\n",
       "      <td>1468071517</td>\n",
       "      <td>2009-04-06</td>\n",
       "      <td>is there twitter for francophones?  maybe i wo...</td>\n",
       "    </tr>\n",
       "    <tr>\n",
       "      <th>9</th>\n",
       "      <td>1468087930</td>\n",
       "      <td>2009-04-06</td>\n",
       "      <td>is eating frozen grapes in an effort to fill i...</td>\n",
       "    </tr>\n",
       "  </tbody>\n",
       "</table>\n",
       "</div>"
      ],
      "text/plain": [
       "     Tweet_Id        Date                                         Tweet_Text\n",
       "0  1467878557  2009-04-06  dierks bentley is comin' to columbus oh!! i wa...\n",
       "1  1467901424  2009-04-06  this latest episode of newnownext is like full...\n",
       "2  1467918595  2009-04-06   casting director called me today she's wicked...\n",
       "3  1467982795  2009-04-06  i am home missing my baby  busy week ahead fri...\n",
       "4  1468020773  2009-04-06                                        good post. \n",
       "5  1468021367  2009-04-06  back on the 7am train ... rubbish! only for 3 ...\n",
       "6  1468023239  2009-04-06  day 2 is almost over!  i can't wait to eat wad...\n",
       "7  1468036593  2009-04-06   i'm sure if i saw you i'd think you're way li...\n",
       "8  1468071517  2009-04-06  is there twitter for francophones?  maybe i wo...\n",
       "9  1468087930  2009-04-06  is eating frozen grapes in an effort to fill i..."
      ]
     },
     "execution_count": 31,
     "metadata": {},
     "output_type": "execute_result"
    }
   ],
   "source": [
    "sentiment_df.head(10)"
   ]
  },
  {
   "cell_type": "code",
   "execution_count": 32,
   "id": "c611e7be",
   "metadata": {},
   "outputs": [
    {
     "name": "stdout",
     "output_type": "stream",
     "text": [
      "Current date and time: 2023-11-06 19:31:18\n"
     ]
    }
   ],
   "source": [
    "from datetime import datetime\n",
    "\n",
    "# Get the current date and time\n",
    "current_datetime = datetime.now()\n",
    "\n",
    "# Format the date and time as a string\n",
    "formatted_datetime = current_datetime.strftime('%Y-%m-%d %H:%M:%S')\n",
    "\n",
    "# Print the formatted date and time\n",
    "print(\"Current date and time:\", formatted_datetime)"
   ]
  },
  {
   "cell_type": "code",
   "execution_count": 33,
   "id": "42975621",
   "metadata": {},
   "outputs": [
    {
     "data": {
      "text/html": [
       "<div>\n",
       "<style scoped>\n",
       "    .dataframe tbody tr th:only-of-type {\n",
       "        vertical-align: middle;\n",
       "    }\n",
       "\n",
       "    .dataframe tbody tr th {\n",
       "        vertical-align: top;\n",
       "    }\n",
       "\n",
       "    .dataframe thead th {\n",
       "        text-align: right;\n",
       "    }\n",
       "</style>\n",
       "<table border=\"1\" class=\"dataframe\">\n",
       "  <thead>\n",
       "    <tr style=\"text-align: right;\">\n",
       "      <th></th>\n",
       "      <th>Tweet_Id</th>\n",
       "      <th>Date</th>\n",
       "      <th>Tweet_Text</th>\n",
       "      <th>Tweet_Text_Cleaned</th>\n",
       "    </tr>\n",
       "  </thead>\n",
       "  <tbody>\n",
       "    <tr>\n",
       "      <th>0</th>\n",
       "      <td>1467878557</td>\n",
       "      <td>2009-04-06</td>\n",
       "      <td>dierks bentley is comin' to columbus oh!! i wa...</td>\n",
       "      <td>dierks bentley comin columbus oh wanna go bad</td>\n",
       "    </tr>\n",
       "    <tr>\n",
       "      <th>1</th>\n",
       "      <td>1467901424</td>\n",
       "      <td>2009-04-06</td>\n",
       "      <td>this latest episode of newnownext is like full...</td>\n",
       "      <td>latest episode newnownext like full awesome</td>\n",
       "    </tr>\n",
       "    <tr>\n",
       "      <th>2</th>\n",
       "      <td>1467918595</td>\n",
       "      <td>2009-04-06</td>\n",
       "      <td>casting director called me today she's wicked...</td>\n",
       "      <td>casting director called today shes wicked exci...</td>\n",
       "    </tr>\n",
       "    <tr>\n",
       "      <th>3</th>\n",
       "      <td>1467982795</td>\n",
       "      <td>2009-04-06</td>\n",
       "      <td>i am home missing my baby  busy week ahead fri...</td>\n",
       "      <td>home missing baby busy week ahead fri chill da...</td>\n",
       "    </tr>\n",
       "    <tr>\n",
       "      <th>4</th>\n",
       "      <td>1468020773</td>\n",
       "      <td>2009-04-06</td>\n",
       "      <td>good post.</td>\n",
       "      <td>good post</td>\n",
       "    </tr>\n",
       "  </tbody>\n",
       "</table>\n",
       "</div>"
      ],
      "text/plain": [
       "     Tweet_Id        Date                                         Tweet_Text  \\\n",
       "0  1467878557  2009-04-06  dierks bentley is comin' to columbus oh!! i wa...   \n",
       "1  1467901424  2009-04-06  this latest episode of newnownext is like full...   \n",
       "2  1467918595  2009-04-06   casting director called me today she's wicked...   \n",
       "3  1467982795  2009-04-06  i am home missing my baby  busy week ahead fri...   \n",
       "4  1468020773  2009-04-06                                        good post.    \n",
       "\n",
       "                                  Tweet_Text_Cleaned  \n",
       "0      dierks bentley comin columbus oh wanna go bad  \n",
       "1        latest episode newnownext like full awesome  \n",
       "2  casting director called today shes wicked exci...  \n",
       "3  home missing baby busy week ahead fri chill da...  \n",
       "4                                          good post  "
      ]
     },
     "execution_count": 33,
     "metadata": {},
     "output_type": "execute_result"
    }
   ],
   "source": [
    "sentiment_df['Tweet_Text_Cleaned'] = sentiment_df['Tweet_Text'].apply(get_text_processing)\n",
    "sentiment_df.head()"
   ]
  },
  {
   "cell_type": "code",
   "execution_count": 34,
   "id": "095b9ce8",
   "metadata": {},
   "outputs": [
    {
     "name": "stdout",
     "output_type": "stream",
     "text": [
      "Current date and time: 2023-11-06 19:38:50\n"
     ]
    }
   ],
   "source": [
    "from datetime import datetime\n",
    "\n",
    "# Get the current date and time\n",
    "current_datetime = datetime.now()\n",
    "\n",
    "# Format the date and time as a string\n",
    "formatted_datetime = current_datetime.strftime('%Y-%m-%d %H:%M:%S')\n",
    "\n",
    "# Print the formatted date and time\n",
    "print(\"Current date and time:\", formatted_datetime)"
   ]
  },
  {
   "cell_type": "code",
   "execution_count": 35,
   "id": "73f2e669",
   "metadata": {},
   "outputs": [],
   "source": [
    "import pandas as pd\n",
    "from textblob import TextBlob\n",
    "\n",
    "# Assuming \"df\" is your Pandas DataFrame\n",
    "sentiment_df[\"Textblob_Sentiment\"] = sentiment_df[\"Tweet_Text_Cleaned\"].apply(lambda x: TextBlob(x).sentiment.polarity)\n",
    "\n",
    "# The \"Sentiment\" column now contains sentiment polarity scores\n"
   ]
  },
  {
   "cell_type": "code",
   "execution_count": 36,
   "id": "07c4ecea",
   "metadata": {},
   "outputs": [],
   "source": [
    "def classify_sentiment(polarity):\n",
    "    if polarity > 0:\n",
    "        return \"Positive\"\n",
    "    elif polarity < 0:\n",
    "        return \"Negative\"\n",
    "    else:\n",
    "        return \"Neutral\"\n",
    "\n",
    "sentiment_df[\"Textblob_Sentiment_Class\"] = sentiment_df[\"Textblob_Sentiment\"].apply(classify_sentiment)"
   ]
  },
  {
   "cell_type": "code",
   "execution_count": 37,
   "id": "8af99564",
   "metadata": {},
   "outputs": [
    {
     "name": "stdout",
     "output_type": "stream",
     "text": [
      "Current date and time: 2023-11-06 19:45:53\n"
     ]
    }
   ],
   "source": [
    "from datetime import datetime\n",
    "\n",
    "# Get the current date and time\n",
    "current_datetime = datetime.now()\n",
    "\n",
    "# Format the date and time as a string\n",
    "formatted_datetime = current_datetime.strftime('%Y-%m-%d %H:%M:%S')\n",
    "\n",
    "# Print the formatted date and time\n",
    "print(\"Current date and time:\", formatted_datetime)"
   ]
  },
  {
   "cell_type": "code",
   "execution_count": 38,
   "id": "109d70ed",
   "metadata": {},
   "outputs": [],
   "source": [
    "import nltk\n",
    "#nltk.download('vader_lexicon')\n",
    "from nltk.sentiment.vader import SentimentIntensityAnalyzer\n",
    "\n",
    "# Initialize the VADER sentiment analyzer\n",
    "analyzer = SentimentIntensityAnalyzer()\n",
    "\n",
    "# Assuming \"df\" is your Pandas DataFrame\n",
    "sentiment_df[\"NLTK_Sentiment_Scores\"] = sentiment_df[\"Tweet_Text_Cleaned\"].apply(lambda x: analyzer.polarity_scores(x))\n",
    "\n",
    "# Extract the sentiment scores (positive, negative, neutral, compound) into separate columns\n",
    "sentiment_df[\"NLTK_Positive_Score\"] = sentiment_df[\"NLTK_Sentiment_Scores\"].apply(lambda x: x[\"pos\"])\n",
    "sentiment_df[\"NLTK_Negative_Score\"] = sentiment_df[\"NLTK_Sentiment_Scores\"].apply(lambda x: x[\"neg\"])\n",
    "sentiment_df[\"NLTK_Neutral_Score\"] = sentiment_df[\"NLTK_Sentiment_Scores\"].apply(lambda x: x[\"neu\"])\n",
    "sentiment_df[\"NLTK_Compound_Score\"] = sentiment_df[\"NLTK_Sentiment_Scores\"].apply(lambda x: x[\"compound\"])\n",
    "\n",
    "# Classify sentiment based on compound score\n",
    "sentiment_df[\"NLTK_Sentiment_Class\"] = sentiment_df[\"NLTK_Compound_Score\"].apply(lambda x: \"Positive\" if x > 0 else \"Negative\" if x < 0 else \"Neutral\")\n",
    "\n"
   ]
  },
  {
   "cell_type": "code",
   "execution_count": 39,
   "id": "3f55b940",
   "metadata": {},
   "outputs": [
    {
     "name": "stdout",
     "output_type": "stream",
     "text": [
      "Current date and time: 2023-11-06 19:51:36\n"
     ]
    }
   ],
   "source": [
    "from datetime import datetime\n",
    "\n",
    "# Get the current date and time\n",
    "current_datetime = datetime.now()\n",
    "\n",
    "# Format the date and time as a string\n",
    "formatted_datetime = current_datetime.strftime('%Y-%m-%d %H:%M:%S')\n",
    "\n",
    "# Print the formatted date and time\n",
    "print(\"Current date and time:\", formatted_datetime)"
   ]
  },
  {
   "cell_type": "code",
   "execution_count": 40,
   "id": "8f62c001",
   "metadata": {},
   "outputs": [
    {
     "data": {
      "text/html": [
       "<div>\n",
       "<style scoped>\n",
       "    .dataframe tbody tr th:only-of-type {\n",
       "        vertical-align: middle;\n",
       "    }\n",
       "\n",
       "    .dataframe tbody tr th {\n",
       "        vertical-align: top;\n",
       "    }\n",
       "\n",
       "    .dataframe thead th {\n",
       "        text-align: right;\n",
       "    }\n",
       "</style>\n",
       "<table border=\"1\" class=\"dataframe\">\n",
       "  <thead>\n",
       "    <tr style=\"text-align: right;\">\n",
       "      <th></th>\n",
       "      <th>Tweet_Id</th>\n",
       "      <th>Date</th>\n",
       "      <th>Tweet_Text</th>\n",
       "      <th>Tweet_Text_Cleaned</th>\n",
       "      <th>Textblob_Sentiment</th>\n",
       "      <th>Textblob_Sentiment_Class</th>\n",
       "      <th>NLTK_Sentiment_Scores</th>\n",
       "      <th>NLTK_Positive_Score</th>\n",
       "      <th>NLTK_Negative_Score</th>\n",
       "      <th>NLTK_Neutral_Score</th>\n",
       "      <th>NLTK_Compound_Score</th>\n",
       "      <th>NLTK_Sentiment_Class</th>\n",
       "    </tr>\n",
       "  </thead>\n",
       "  <tbody>\n",
       "    <tr>\n",
       "      <th>0</th>\n",
       "      <td>1467878557</td>\n",
       "      <td>2009-04-06</td>\n",
       "      <td>dierks bentley is comin' to columbus oh!! i wa...</td>\n",
       "      <td>dierks bentley comin columbus oh wanna go bad</td>\n",
       "      <td>-0.700000</td>\n",
       "      <td>Negative</td>\n",
       "      <td>{'neg': 0.333, 'neu': 0.667, 'pos': 0.0, 'comp...</td>\n",
       "      <td>0.000</td>\n",
       "      <td>0.333</td>\n",
       "      <td>0.667</td>\n",
       "      <td>-0.5423</td>\n",
       "      <td>Negative</td>\n",
       "    </tr>\n",
       "    <tr>\n",
       "      <th>1</th>\n",
       "      <td>1467901424</td>\n",
       "      <td>2009-04-06</td>\n",
       "      <td>this latest episode of newnownext is like full...</td>\n",
       "      <td>latest episode newnownext like full awesome</td>\n",
       "      <td>0.616667</td>\n",
       "      <td>Positive</td>\n",
       "      <td>{'neg': 0.0, 'neu': 0.377, 'pos': 0.623, 'comp...</td>\n",
       "      <td>0.623</td>\n",
       "      <td>0.000</td>\n",
       "      <td>0.377</td>\n",
       "      <td>0.7650</td>\n",
       "      <td>Positive</td>\n",
       "    </tr>\n",
       "    <tr>\n",
       "      <th>2</th>\n",
       "      <td>1467918595</td>\n",
       "      <td>2009-04-06</td>\n",
       "      <td>casting director called me today she's wicked...</td>\n",
       "      <td>casting director called today shes wicked exci...</td>\n",
       "      <td>-0.062500</td>\n",
       "      <td>Negative</td>\n",
       "      <td>{'neg': 0.301, 'neu': 0.583, 'pos': 0.117, 'co...</td>\n",
       "      <td>0.117</td>\n",
       "      <td>0.301</td>\n",
       "      <td>0.583</td>\n",
       "      <td>-0.5859</td>\n",
       "      <td>Negative</td>\n",
       "    </tr>\n",
       "    <tr>\n",
       "      <th>3</th>\n",
       "      <td>1467982795</td>\n",
       "      <td>2009-04-06</td>\n",
       "      <td>i am home missing my baby  busy week ahead fri...</td>\n",
       "      <td>home missing baby busy week ahead fri chill da...</td>\n",
       "      <td>-0.050000</td>\n",
       "      <td>Negative</td>\n",
       "      <td>{'neg': 0.109, 'neu': 0.891, 'pos': 0.0, 'comp...</td>\n",
       "      <td>0.000</td>\n",
       "      <td>0.109</td>\n",
       "      <td>0.891</td>\n",
       "      <td>-0.2960</td>\n",
       "      <td>Negative</td>\n",
       "    </tr>\n",
       "    <tr>\n",
       "      <th>4</th>\n",
       "      <td>1468020773</td>\n",
       "      <td>2009-04-06</td>\n",
       "      <td>good post.</td>\n",
       "      <td>good post</td>\n",
       "      <td>0.700000</td>\n",
       "      <td>Positive</td>\n",
       "      <td>{'neg': 0.0, 'neu': 0.256, 'pos': 0.744, 'comp...</td>\n",
       "      <td>0.744</td>\n",
       "      <td>0.000</td>\n",
       "      <td>0.256</td>\n",
       "      <td>0.4404</td>\n",
       "      <td>Positive</td>\n",
       "    </tr>\n",
       "  </tbody>\n",
       "</table>\n",
       "</div>"
      ],
      "text/plain": [
       "     Tweet_Id        Date                                         Tweet_Text  \\\n",
       "0  1467878557  2009-04-06  dierks bentley is comin' to columbus oh!! i wa...   \n",
       "1  1467901424  2009-04-06  this latest episode of newnownext is like full...   \n",
       "2  1467918595  2009-04-06   casting director called me today she's wicked...   \n",
       "3  1467982795  2009-04-06  i am home missing my baby  busy week ahead fri...   \n",
       "4  1468020773  2009-04-06                                        good post.    \n",
       "\n",
       "                                  Tweet_Text_Cleaned  Textblob_Sentiment  \\\n",
       "0      dierks bentley comin columbus oh wanna go bad           -0.700000   \n",
       "1        latest episode newnownext like full awesome            0.616667   \n",
       "2  casting director called today shes wicked exci...           -0.062500   \n",
       "3  home missing baby busy week ahead fri chill da...           -0.050000   \n",
       "4                                          good post            0.700000   \n",
       "\n",
       "  Textblob_Sentiment_Class                              NLTK_Sentiment_Scores  \\\n",
       "0                 Negative  {'neg': 0.333, 'neu': 0.667, 'pos': 0.0, 'comp...   \n",
       "1                 Positive  {'neg': 0.0, 'neu': 0.377, 'pos': 0.623, 'comp...   \n",
       "2                 Negative  {'neg': 0.301, 'neu': 0.583, 'pos': 0.117, 'co...   \n",
       "3                 Negative  {'neg': 0.109, 'neu': 0.891, 'pos': 0.0, 'comp...   \n",
       "4                 Positive  {'neg': 0.0, 'neu': 0.256, 'pos': 0.744, 'comp...   \n",
       "\n",
       "   NLTK_Positive_Score  NLTK_Negative_Score  NLTK_Neutral_Score  \\\n",
       "0                0.000                0.333               0.667   \n",
       "1                0.623                0.000               0.377   \n",
       "2                0.117                0.301               0.583   \n",
       "3                0.000                0.109               0.891   \n",
       "4                0.744                0.000               0.256   \n",
       "\n",
       "   NLTK_Compound_Score NLTK_Sentiment_Class  \n",
       "0              -0.5423             Negative  \n",
       "1               0.7650             Positive  \n",
       "2              -0.5859             Negative  \n",
       "3              -0.2960             Negative  \n",
       "4               0.4404             Positive  "
      ]
     },
     "execution_count": 40,
     "metadata": {},
     "output_type": "execute_result"
    }
   ],
   "source": [
    "sentiment_df.head()"
   ]
  },
  {
   "cell_type": "code",
   "execution_count": 41,
   "id": "f6bb7371",
   "metadata": {},
   "outputs": [
    {
     "data": {
      "image/png": "[encoded data removed]",
      "text/plain": [
       "<Figure size 432x432 with 1 Axes>"
      ]
     },
     "metadata": {},
     "output_type": "display_data"
    }
   ],
   "source": [
    "import matplotlib.pyplot as plt\n",
    "\n",
    "sentiment_counts = sentiment_df['Textblob_Sentiment_Class'].value_counts()\n",
    "plt.figure(figsize=(6, 6))\n",
    "plt.pie(sentiment_counts, labels=sentiment_counts.index, autopct='%1.1f%%', startangle=140)\n",
    "plt.title('Sentiment Classification Breakdown - TextBlob')\n",
    "plt.show()"
   ]
  },
  {
   "cell_type": "code",
   "execution_count": 42,
   "id": "f1a3be23",
   "metadata": {},
   "outputs": [
    {
     "data": {
      "image/png": "[encoded data removed]",
      "text/plain": [
       "<Figure size 432x432 with 1 Axes>"
      ]
     },
     "metadata": {},
     "output_type": "display_data"
    }
   ],
   "source": [
    "\n",
    "sentiment_counts = sentiment_df['NLTK_Sentiment_Class'].value_counts()\n",
    "plt.figure(figsize=(6, 6))\n",
    "plt.pie(sentiment_counts, labels=sentiment_counts.index, autopct='%1.1f%%', startangle=140)\n",
    "plt.title('Sentiment Classification Breakdown - NLTK')\n",
    "plt.show()"
   ]
  },
  {
   "cell_type": "code",
   "execution_count": 43,
   "id": "e0103e35",
   "metadata": {},
   "outputs": [
    {
     "data": {
      "image/png": "[encoded data removed]",
      "text/plain": [
       "<Figure size 864x432 with 1 Axes>"
      ]
     },
     "metadata": {
      "needs_background": "light"
     },
     "output_type": "display_data"
    }
   ],
   "source": [
    "import matplotlib.pyplot as plt\n",
    "date_counts = sentiment_df['Date'].value_counts().sort_index()\n",
    "plt.figure(figsize=(12, 6))\n",
    "plt.bar(date_counts.index, date_counts.values, width=0.8, align='center')\n",
    "\n",
    "# You can set labels and titles for the chart and axes:\n",
    "plt.xlabel('Date')\n",
    "plt.ylabel('Number of Records')\n",
    "plt.title('Number of Records per Date Over Time')\n",
    "\n",
    "# If you have many dates, you may want to rotate the x-axis labels for better readability:\n",
    "#plt.xticks(rotation=45)\n",
    "\n",
    "# Show the chart\n",
    "plt.show()"
   ]
  },
  {
   "cell_type": "code",
   "execution_count": 44,
   "id": "29404790",
   "metadata": {},
   "outputs": [
    {
     "name": "stdout",
     "output_type": "stream",
     "text": [
      "[datetime.date(2009, 4, 6) datetime.date(2009, 4, 7)\n",
      " datetime.date(2009, 4, 17) datetime.date(2009, 4, 18)\n",
      " datetime.date(2009, 4, 19) datetime.date(2009, 4, 20)\n",
      " datetime.date(2009, 4, 21) datetime.date(2009, 5, 1)\n",
      " datetime.date(2009, 5, 2) datetime.date(2009, 5, 3)\n",
      " datetime.date(2009, 5, 4) datetime.date(2009, 5, 9)\n",
      " datetime.date(2009, 5, 10) datetime.date(2009, 5, 11)\n",
      " datetime.date(2009, 5, 13) datetime.date(2009, 5, 14)\n",
      " datetime.date(2009, 5, 16) datetime.date(2009, 5, 17)\n",
      " datetime.date(2009, 5, 18) datetime.date(2009, 5, 21)\n",
      " datetime.date(2009, 5, 22) datetime.date(2009, 5, 23)\n",
      " datetime.date(2009, 5, 26) datetime.date(2009, 5, 27)\n",
      " datetime.date(2009, 5, 28) datetime.date(2009, 5, 29)\n",
      " datetime.date(2009, 5, 30) datetime.date(2009, 5, 31)\n",
      " datetime.date(2009, 6, 1) datetime.date(2009, 6, 2)\n",
      " datetime.date(2009, 6, 3) datetime.date(2009, 6, 4)\n",
      " datetime.date(2009, 6, 5) datetime.date(2009, 6, 6)\n",
      " datetime.date(2009, 6, 7) datetime.date(2009, 6, 14)\n",
      " datetime.date(2009, 6, 15) datetime.date(2009, 6, 16)\n",
      " datetime.date(2009, 6, 17) datetime.date(2009, 6, 18)\n",
      " datetime.date(2009, 6, 19) datetime.date(2009, 6, 20)\n",
      " datetime.date(2009, 6, 21) datetime.date(2009, 6, 22)\n",
      " datetime.date(2009, 6, 23) datetime.date(2009, 6, 24)\n",
      " datetime.date(2009, 6, 25) datetime.date(2009, 5, 25)]\n"
     ]
    }
   ],
   "source": [
    "print(sentiment_df['Date'].unique())"
   ]
  },
  {
   "cell_type": "code",
   "execution_count": 45,
   "id": "25deceaa",
   "metadata": {},
   "outputs": [
    {
     "name": "stdout",
     "output_type": "stream",
     "text": [
      "[datetime.date(2009, 4, 6) datetime.date(2009, 4, 7)\n",
      " datetime.date(2009, 4, 17) datetime.date(2009, 4, 18)\n",
      " datetime.date(2009, 4, 19) datetime.date(2009, 4, 20)\n",
      " datetime.date(2009, 4, 21) datetime.date(2009, 5, 1)\n",
      " datetime.date(2009, 5, 2) datetime.date(2009, 5, 3)\n",
      " datetime.date(2009, 5, 4) datetime.date(2009, 5, 9)\n",
      " datetime.date(2009, 5, 10) datetime.date(2009, 5, 11)\n",
      " datetime.date(2009, 5, 13) datetime.date(2009, 5, 14)\n",
      " datetime.date(2009, 5, 16) datetime.date(2009, 5, 17)\n",
      " datetime.date(2009, 5, 18) datetime.date(2009, 5, 21)\n",
      " datetime.date(2009, 5, 22) datetime.date(2009, 5, 23)\n",
      " datetime.date(2009, 5, 25) datetime.date(2009, 5, 26)\n",
      " datetime.date(2009, 5, 27) datetime.date(2009, 5, 28)\n",
      " datetime.date(2009, 5, 29) datetime.date(2009, 5, 30)\n",
      " datetime.date(2009, 5, 31) datetime.date(2009, 6, 1)\n",
      " datetime.date(2009, 6, 2) datetime.date(2009, 6, 3)\n",
      " datetime.date(2009, 6, 4) datetime.date(2009, 6, 5)\n",
      " datetime.date(2009, 6, 6) datetime.date(2009, 6, 7)\n",
      " datetime.date(2009, 6, 14) datetime.date(2009, 6, 15)\n",
      " datetime.date(2009, 6, 16) datetime.date(2009, 6, 17)\n",
      " datetime.date(2009, 6, 18) datetime.date(2009, 6, 19)\n",
      " datetime.date(2009, 6, 20) datetime.date(2009, 6, 21)\n",
      " datetime.date(2009, 6, 22) datetime.date(2009, 6, 23)\n",
      " datetime.date(2009, 6, 24) datetime.date(2009, 6, 25)]\n"
     ]
    }
   ],
   "source": [
    "print(sentiment_df['Date'].sort_values().unique())\n"
   ]
  },
  {
   "cell_type": "code",
   "execution_count": 46,
   "id": "28d9a427",
   "metadata": {},
   "outputs": [
    {
     "name": "stdout",
     "output_type": "stream",
     "text": [
      "          Date  Textblob_Sentiment\n",
      "0   2009-04-06            0.093937\n",
      "1   2009-04-07            0.099277\n",
      "2   2009-04-17            0.121680\n",
      "3   2009-04-18            0.112109\n",
      "4   2009-04-19            0.115034\n",
      "5   2009-04-20            0.111517\n",
      "6   2009-04-21            0.109791\n",
      "7   2009-05-01            0.111782\n",
      "8   2009-05-02            0.114817\n",
      "9   2009-05-03            0.108905\n",
      "10  2009-05-04            0.110084\n",
      "11  2009-05-09            0.125939\n",
      "12  2009-05-10            0.154356\n",
      "13  2009-05-11            0.106504\n",
      "14  2009-05-13            0.097716\n",
      "15  2009-05-14            0.107822\n",
      "16  2009-05-16            0.109111\n",
      "17  2009-05-17            0.124288\n",
      "18  2009-05-18            0.117270\n",
      "19  2009-05-21            0.109986\n",
      "20  2009-05-22            0.121363\n",
      "21  2009-05-23            0.108315\n",
      "22  2009-05-25            0.152112\n",
      "23  2009-05-26            0.104736\n",
      "24  2009-05-27            0.093531\n",
      "25  2009-05-28            0.116479\n",
      "26  2009-05-29            0.113387\n",
      "27  2009-05-30            0.121119\n",
      "28  2009-05-31            0.121197\n",
      "29  2009-06-01            0.109644\n",
      "30  2009-06-02            0.108975\n",
      "31  2009-06-03            0.107012\n",
      "32  2009-06-04            0.100752\n",
      "33  2009-06-05            0.110658\n",
      "34  2009-06-06            0.111670\n",
      "35  2009-06-07            0.112364\n",
      "36  2009-06-14            0.115681\n",
      "37  2009-06-15            0.103129\n",
      "38  2009-06-16            0.057328\n",
      "39  2009-06-17           -0.015665\n",
      "40  2009-06-18           -0.016598\n",
      "41  2009-06-19           -0.013013\n",
      "42  2009-06-20           -0.011290\n",
      "43  2009-06-21            0.003417\n",
      "44  2009-06-22           -0.024637\n",
      "45  2009-06-23           -0.016083\n",
      "46  2009-06-24           -0.014222\n",
      "47  2009-06-25           -0.015262\n"
     ]
    }
   ],
   "source": [
    "date_avg_score = sentiment_df.groupby('Date')['Textblob_Sentiment'].mean()\n",
    "\n",
    "# Reset the index to have 'Date' as a column instead of an index\n",
    "date_avg_score = date_avg_score.reset_index()\n",
    "\n",
    "# Display the breakdown\n",
    "print(date_avg_score)"
   ]
  },
  {
   "cell_type": "code",
   "execution_count": 47,
   "id": "761635ec",
   "metadata": {},
   "outputs": [
    {
     "name": "stdout",
     "output_type": "stream",
     "text": [
      "          Date  NLTK_Compound_Score\n",
      "0   2009-04-06             0.149617\n",
      "1   2009-04-07             0.168363\n",
      "2   2009-04-17             0.203692\n",
      "3   2009-04-18             0.183011\n",
      "4   2009-04-19             0.188620\n",
      "5   2009-04-20             0.180237\n",
      "6   2009-04-21             0.181058\n",
      "7   2009-05-01             0.179307\n",
      "8   2009-05-02             0.182975\n",
      "9   2009-05-03             0.174692\n",
      "10  2009-05-04             0.169947\n",
      "11  2009-05-09             0.184752\n",
      "12  2009-05-10             0.213646\n",
      "13  2009-05-11             0.166249\n",
      "14  2009-05-13             0.146755\n",
      "15  2009-05-14             0.173145\n",
      "16  2009-05-16             0.173580\n",
      "17  2009-05-17             0.202065\n",
      "18  2009-05-18             0.189932\n",
      "19  2009-05-21             0.177161\n",
      "20  2009-05-22             0.199820\n",
      "21  2009-05-23             0.203072\n",
      "22  2009-05-25             0.189096\n",
      "23  2009-05-26             0.173951\n",
      "24  2009-05-27             0.136597\n",
      "25  2009-05-28             0.186978\n",
      "26  2009-05-29             0.186387\n",
      "27  2009-05-30             0.192508\n",
      "28  2009-05-31             0.193986\n",
      "29  2009-06-01             0.175798\n",
      "30  2009-06-02             0.177499\n",
      "31  2009-06-03             0.174381\n",
      "32  2009-06-04             0.161690\n",
      "33  2009-06-05             0.186587\n",
      "34  2009-06-06             0.183182\n",
      "35  2009-06-07             0.183803\n",
      "36  2009-06-14             0.173571\n",
      "37  2009-06-15             0.170237\n",
      "38  2009-06-16             0.094655\n",
      "39  2009-06-17            -0.015195\n",
      "40  2009-06-18            -0.018375\n",
      "41  2009-06-19            -0.013508\n",
      "42  2009-06-20            -0.007760\n",
      "43  2009-06-21             0.003167\n",
      "44  2009-06-22            -0.032983\n",
      "45  2009-06-23            -0.021127\n",
      "46  2009-06-24            -0.018154\n",
      "47  2009-06-25            -0.021332\n"
     ]
    }
   ],
   "source": [
    "date_avg_score = sentiment_df.groupby('Date')['NLTK_Compound_Score'].mean()\n",
    "\n",
    "# Reset the index to have 'Date' as a column instead of an index\n",
    "date_avg_score = date_avg_score.reset_index()\n",
    "\n",
    "# Display the breakdown\n",
    "print(date_avg_score)"
   ]
  },
  {
   "cell_type": "code",
   "execution_count": 48,
   "id": "96953e24",
   "metadata": {},
   "outputs": [
    {
     "name": "stdout",
     "output_type": "stream",
     "text": [
      "         Date  NLTK_Compound_Score\n",
      "0  2009-04-06             0.149617\n",
      "1  2009-04-07             0.168363\n",
      "2  2009-04-08                  NaN\n",
      "3  2009-04-09                  NaN\n",
      "4  2009-04-10                  NaN\n",
      "5  2009-04-11                  NaN\n",
      "6  2009-04-12                  NaN\n",
      "7  2009-04-13                  NaN\n",
      "8  2009-04-14                  NaN\n",
      "9  2009-04-15                  NaN\n",
      "10 2009-04-16                  NaN\n",
      "11 2009-04-17             0.203692\n",
      "12 2009-04-18             0.183011\n",
      "13 2009-04-19             0.188620\n",
      "14 2009-04-20             0.180237\n",
      "15 2009-04-21             0.181058\n",
      "16 2009-04-22                  NaN\n",
      "17 2009-04-23                  NaN\n",
      "18 2009-04-24                  NaN\n",
      "19 2009-04-25                  NaN\n",
      "20 2009-04-26                  NaN\n",
      "21 2009-04-27                  NaN\n",
      "22 2009-04-28                  NaN\n",
      "23 2009-04-29                  NaN\n",
      "24 2009-04-30                  NaN\n",
      "25 2009-05-01             0.179307\n",
      "26 2009-05-02             0.182975\n",
      "27 2009-05-03             0.174692\n",
      "28 2009-05-04             0.169947\n",
      "29 2009-05-05                  NaN\n",
      "30 2009-05-06                  NaN\n",
      "31 2009-05-07                  NaN\n",
      "32 2009-05-08                  NaN\n",
      "33 2009-05-09             0.184752\n",
      "34 2009-05-10             0.213646\n",
      "35 2009-05-11             0.166249\n",
      "36 2009-05-12                  NaN\n",
      "37 2009-05-13             0.146755\n",
      "38 2009-05-14             0.173145\n",
      "39 2009-05-15                  NaN\n",
      "40 2009-05-16             0.173580\n",
      "41 2009-05-17             0.202065\n",
      "42 2009-05-18             0.189932\n",
      "43 2009-05-19                  NaN\n",
      "44 2009-05-20                  NaN\n",
      "45 2009-05-21             0.177161\n",
      "46 2009-05-22             0.199820\n",
      "47 2009-05-23             0.203072\n",
      "48 2009-05-24                  NaN\n",
      "49 2009-05-25             0.189096\n",
      "50 2009-05-26             0.173951\n",
      "51 2009-05-27             0.136597\n",
      "52 2009-05-28             0.186978\n",
      "53 2009-05-29             0.186387\n",
      "54 2009-05-30             0.192508\n",
      "55 2009-05-31             0.193986\n",
      "56 2009-06-01             0.175798\n",
      "57 2009-06-02             0.177499\n",
      "58 2009-06-03             0.174381\n",
      "59 2009-06-04             0.161690\n",
      "60 2009-06-05             0.186587\n",
      "61 2009-06-06             0.183182\n",
      "62 2009-06-07             0.183803\n",
      "63 2009-06-08                  NaN\n",
      "64 2009-06-09                  NaN\n",
      "65 2009-06-10                  NaN\n",
      "66 2009-06-11                  NaN\n",
      "67 2009-06-12                  NaN\n",
      "68 2009-06-13                  NaN\n",
      "69 2009-06-14             0.173571\n",
      "70 2009-06-15             0.170237\n",
      "71 2009-06-16             0.094655\n",
      "72 2009-06-17            -0.015195\n",
      "73 2009-06-18            -0.018375\n",
      "74 2009-06-19            -0.013508\n",
      "75 2009-06-20            -0.007760\n",
      "76 2009-06-21             0.003167\n",
      "77 2009-06-22            -0.032983\n",
      "78 2009-06-23            -0.021127\n",
      "79 2009-06-24            -0.018154\n",
      "80 2009-06-25            -0.021332\n"
     ]
    }
   ],
   "source": [
    "# Convert the 'Date' column to datetime if it's not already\n",
    "date_avg_score['Date'] = pd.to_datetime(date_avg_score['Date'])\n",
    "\n",
    "# Create a date range from the earliest date to the latest date\n",
    "date_range = pd.date_range(start=date_avg_score['Date'].min(), end=date_avg_score['Date'].max())\n",
    "\n",
    "# Create a DataFrame with the date range\n",
    "date_df = pd.DataFrame({'Date': date_range})\n",
    "\n",
    "# Merge the date_df with date_avg_score to include the 'NLTK_Compound_Score'\n",
    "merged_df = date_df.merge(date_avg_score, on='Date', how='left')\n",
    "\n",
    "pd.set_option('display.max_rows', None)\n",
    "pd.set_option('display.max_columns', None)\n",
    "\n",
    "# Print the DataFrame\n",
    "print(merged_df)\n",
    "\n"
   ]
  },
  {
   "cell_type": "code",
   "execution_count": 49,
   "id": "3544022c",
   "metadata": {},
   "outputs": [],
   "source": [
    "#pd.reset_option('display.max_rows')\n",
    "#pd.reset_option('display.max_columns')"
   ]
  },
  {
   "cell_type": "code",
   "execution_count": 50,
   "id": "f121c34e",
   "metadata": {},
   "outputs": [
    {
     "name": "stdout",
     "output_type": "stream",
     "text": [
      "33\n"
     ]
    }
   ],
   "source": [
    "print(merged_df['NLTK_Compound_Score'].isna().sum())"
   ]
  },
  {
   "cell_type": "code",
   "execution_count": 51,
   "id": "87d1a891",
   "metadata": {},
   "outputs": [
    {
     "name": "stdout",
     "output_type": "stream",
     "text": [
      "            True_NLTK_Compound_Score\n",
      "Date                                \n",
      "2009-05-25                  0.189096\n",
      "2009-05-26                  0.173951\n",
      "2009-05-27                  0.136597\n",
      "2009-05-28                  0.186978\n",
      "2009-05-29                  0.186387\n",
      "2009-05-30                  0.192508\n",
      "2009-05-31                  0.193986\n",
      "2009-06-01                  0.175798\n",
      "2009-06-02                  0.177499\n",
      "2009-06-03                  0.174381\n",
      "2009-06-04                  0.161690\n",
      "2009-06-05                  0.186587\n",
      "2009-06-06                  0.183182\n",
      "2009-06-07                  0.183803\n",
      "            NLTK_Compound_Score\n",
      "Date                           \n",
      "2009-05-25             0.189096\n",
      "2009-05-26             0.173951\n",
      "2009-05-27             0.136597\n",
      "2009-05-28                  NaN\n",
      "2009-05-29                  NaN\n",
      "2009-05-30                  NaN\n",
      "2009-05-31             0.193986\n",
      "2009-06-01             0.175798\n",
      "2009-06-02             0.177499\n",
      "2009-06-03             0.174381\n",
      "2009-06-04             0.161690\n",
      "2009-06-05                  NaN\n",
      "2009-06-06             0.183182\n",
      "2009-06-07             0.183803\n"
     ]
    },
    {
     "name": "stderr",
     "output_type": "stream",
     "text": [
      "/tmp/ipykernel_4125/3900029485.py:2: SettingWithCopyWarning: \n",
      "A value is trying to be set on a copy of a slice from a DataFrame\n",
      "\n",
      "See the caveats in the documentation: https://pandas.pydata.org/pandas-docs/stable/user_guide/indexing.html#returning-a-view-versus-a-copy\n",
      "  imputation_orig_df.rename(columns={'NLTK_Compound_Score': 'True_NLTK_Compound_Score'}, inplace=True)\n"
     ]
    }
   ],
   "source": [
    "imputation_orig_df = merged_df[(merged_df['Date'] >= '2009-05-25') & (merged_df['Date'] <= '2009-06-07')]\n",
    "imputation_orig_df.rename(columns={'NLTK_Compound_Score': 'True_NLTK_Compound_Score'}, inplace=True)\n",
    "\n",
    "imputation_test_df = merged_df[(merged_df['Date'] >= '2009-05-25') & (merged_df['Date'] <= '2009-06-07')]\n",
    "\n",
    "# Create a list of dates to nullify 'NLTK_Compound_Score'\n",
    "dates_to_nullify = ['2009-05-28', '2009-05-29', '2009-05-30', '2009-06-05']\n",
    "\n",
    "# Nullify 'NLTK_Compound_Score' for the specified dates\n",
    "imputation_test_df.loc[imputation_test_df['Date'].isin(dates_to_nullify), 'NLTK_Compound_Score'] = None\n",
    "\n",
    "imputation_orig_df = imputation_orig_df.set_index('Date')\n",
    "imputation_test_df = imputation_test_df.set_index('Date')\n",
    "\n",
    "# Print the resulting DataFrame\n",
    "print(imputation_orig_df)\n",
    "print(imputation_test_df)\n"
   ]
  },
  {
   "cell_type": "code",
   "execution_count": 52,
   "id": "7fead03f",
   "metadata": {},
   "outputs": [
    {
     "name": "stdout",
     "output_type": "stream",
     "text": [
      "            NLTK_Compound_Score  rownum  linear_fill  cubic_fill  knn_mean  \\\n",
      "Date                                                                         \n",
      "2009-05-25             0.189096       0     0.189096    0.189096  0.189096   \n",
      "2009-05-26             0.173951       1     0.173951    0.173951  0.173951   \n",
      "2009-05-27             0.136597       2     0.136597    0.136597  0.136597   \n",
      "2009-05-28                  NaN       3     0.150944    0.134052  0.173408   \n",
      "2009-05-29                  NaN       4     0.165291    0.158657  0.173886   \n",
      "2009-05-30                  NaN       5     0.179639    0.186578  0.171566   \n",
      "2009-05-31             0.193986       6     0.193986    0.193986  0.193986   \n",
      "2009-06-01             0.175798       7     0.175798    0.175798  0.175798   \n",
      "2009-06-02             0.177499       8     0.177499    0.177499  0.177499   \n",
      "2009-06-03             0.174381       9     0.174381    0.174381  0.174381   \n",
      "2009-06-04             0.161690      10     0.161690    0.161690  0.161690   \n",
      "2009-06-05                  NaN      11     0.172436    0.168189  0.176059   \n",
      "2009-06-06             0.183182      12     0.183182    0.183182  0.183182   \n",
      "2009-06-07             0.183803      13     0.183803    0.183803  0.183803   \n",
      "\n",
      "            seasonal_mean  \n",
      "Date                       \n",
      "2009-05-25       0.189096  \n",
      "2009-05-26       0.173951  \n",
      "2009-05-27       0.136597  \n",
      "2009-05-28       0.208185  \n",
      "2009-05-29       0.208185  \n",
      "2009-05-30       0.208185  \n",
      "2009-05-31       0.193986  \n",
      "2009-06-01       0.175798  \n",
      "2009-06-02       0.177499  \n",
      "2009-06-03       0.174381  \n",
      "2009-06-04       0.161690  \n",
      "2009-06-05       0.216094  \n",
      "2009-06-06       0.183182  \n",
      "2009-06-07       0.183803  \n"
     ]
    }
   ],
   "source": [
    "import numpy as np\n",
    "from sklearn.metrics import mean_squared_error\n",
    "from scipy.interpolate import interp1d\n",
    "df_ffill = imputation_test_df.ffill()\n",
    "mse_ffill = mean_squared_error(imputation_orig_df['True_NLTK_Compound_Score'], df_ffill['NLTK_Compound_Score'])\n",
    "\n",
    "\n",
    "df_bfill = imputation_test_df.bfill()\n",
    "mse_bfill = mean_squared_error(imputation_orig_df['True_NLTK_Compound_Score'], df_bfill['NLTK_Compound_Score'])\n",
    "\n",
    "\n",
    "## 4. Linear Interpolation ------------------\n",
    "imputation_test_df['rownum'] = np.arange(imputation_test_df.shape[0])\n",
    "df_nona = imputation_test_df.dropna(subset = ['NLTK_Compound_Score'])\n",
    "f = interp1d(df_nona['rownum'], df_nona['NLTK_Compound_Score'])\n",
    "imputation_test_df['linear_fill'] = f(imputation_test_df['rownum'])\n",
    "mse_linearI = mean_squared_error(imputation_orig_df['True_NLTK_Compound_Score'], imputation_test_df['linear_fill'])\n",
    "\n",
    "\n",
    "## 5. Cubic Interpolation --------------------\n",
    "f2 = interp1d(df_nona['rownum'], df_nona['NLTK_Compound_Score'], kind='cubic')\n",
    "imputation_test_df['cubic_fill'] = f2(imputation_test_df['rownum'])\n",
    "mse_CubicI = mean_squared_error(imputation_orig_df['True_NLTK_Compound_Score'], imputation_test_df['cubic_fill'])\n",
    "\n",
    "\n",
    "\n",
    "## 6. Mean of 'n' Nearest Past Neighbors ------\n",
    "def knn_mean(ts, n):\n",
    "    out = np.copy(ts)\n",
    "    for i, val in enumerate(ts):\n",
    "        if np.isnan(val):\n",
    "            n_by_2 = np.ceil(n/2)\n",
    "            lower = np.max([0, int(i-n_by_2)])\n",
    "            upper = np.min([len(ts)+1, int(i+n_by_2)])\n",
    "            ts_near = np.concatenate([ts[lower:i], ts[i:upper]])\n",
    "            out[i] = np.nanmean(ts_near)\n",
    "    return out\n",
    "\n",
    "imputation_test_df['knn_mean'] = knn_mean(imputation_test_df.NLTK_Compound_Score.values, 8)\n",
    "\n",
    "mse_knn = mean_squared_error(imputation_orig_df['True_NLTK_Compound_Score'], imputation_test_df['knn_mean'])\n",
    "\n",
    "\n",
    "## 7. Seasonal Mean ----------------------------\n",
    "def seasonal_mean(ts, n, lr=0.7):\n",
    "    \"\"\"\n",
    "    Compute the mean of corresponding seasonal periods\n",
    "    ts: 1D array-like of the time series\n",
    "    n: Seasonal window length of the time series\n",
    "    \"\"\"\n",
    "    out = np.copy(ts)\n",
    "    for i, val in enumerate(ts):\n",
    "        if np.isnan(val):\n",
    "            ts_seas = ts[i-1::-n]  # previous seasons only\n",
    "            if np.isnan(np.nanmean(ts_seas)):\n",
    "                ts_seas = np.concatenate([ts[i-1::-n], ts[i::n]])  # previous and forward\n",
    "            out[i] = np.nanmean(ts_seas) * lr\n",
    "    return out\n",
    "\n",
    "imputation_test_df['seasonal_mean'] = seasonal_mean(imputation_test_df.NLTK_Compound_Score, n=1, lr=1.25)\n",
    "mse_seasonal_mean = mean_squared_error(imputation_orig_df['True_NLTK_Compound_Score'], imputation_test_df['seasonal_mean'])\n",
    "\n",
    "\n",
    "\n",
    "print(imputation_test_df)"
   ]
  },
  {
   "cell_type": "code",
   "execution_count": 53,
   "id": "0db1a9ec",
   "metadata": {},
   "outputs": [
    {
     "name": "stdout",
     "output_type": "stream",
     "text": [
      "0.0006259520432471975\n",
      "8.616093661843164e-06\n",
      "0.0001506691008618628\n",
      "0.0002816987668740227\n",
      "0.00014580574435655094\n"
     ]
    }
   ],
   "source": [
    "print(mse_ffill)\n",
    "print(mse_bfill)\n",
    "print(mse_linearI)\n",
    "print(mse_CubicI)\n",
    "print(mse_seasonal_mean)"
   ]
  },
  {
   "cell_type": "code",
   "execution_count": 54,
   "id": "dc9d63f1",
   "metadata": {},
   "outputs": [
    {
     "name": "stdout",
     "output_type": "stream",
     "text": [
      "            NLTK_Compound_Score  rownum  linear_fill  cubic_fill  knn_mean  \\\n",
      "Date                                                                         \n",
      "2009-05-25             0.189096       0     0.189096    0.189096  0.189096   \n",
      "2009-05-26             0.173951       1     0.173951    0.173951  0.173951   \n",
      "2009-05-27             0.136597       2     0.136597    0.136597  0.136597   \n",
      "2009-05-28                  NaN       3     0.150944    0.134052  0.173408   \n",
      "2009-05-29                  NaN       4     0.165291    0.158657  0.173886   \n",
      "2009-05-30                  NaN       5     0.179639    0.186578  0.171566   \n",
      "2009-05-31             0.193986       6     0.193986    0.193986  0.193986   \n",
      "2009-06-01             0.175798       7     0.175798    0.175798  0.175798   \n",
      "2009-06-02             0.177499       8     0.177499    0.177499  0.177499   \n",
      "2009-06-03             0.174381       9     0.174381    0.174381  0.174381   \n",
      "2009-06-04             0.161690      10     0.161690    0.161690  0.161690   \n",
      "2009-06-05                  NaN      11     0.172436    0.168189  0.176059   \n",
      "2009-06-06             0.183182      12     0.183182    0.183182  0.183182   \n",
      "2009-06-07             0.183803      13     0.183803    0.183803  0.183803   \n",
      "\n",
      "            seasonal_mean  True_NLTK_Compound_Score  \n",
      "Date                                                 \n",
      "2009-05-25       0.189096                  0.189096  \n",
      "2009-05-26       0.173951                  0.173951  \n",
      "2009-05-27       0.136597                  0.136597  \n",
      "2009-05-28       0.208185                  0.186978  \n",
      "2009-05-29       0.208185                  0.186387  \n",
      "2009-05-30       0.208185                  0.192508  \n",
      "2009-05-31       0.193986                  0.193986  \n",
      "2009-06-01       0.175798                  0.175798  \n",
      "2009-06-02       0.177499                  0.177499  \n",
      "2009-06-03       0.174381                  0.174381  \n",
      "2009-06-04       0.161690                  0.161690  \n",
      "2009-06-05       0.216094                  0.186587  \n",
      "2009-06-06       0.183182                  0.183182  \n",
      "2009-06-07       0.183803                  0.183803  \n"
     ]
    }
   ],
   "source": [
    "# Merge 'NLTK_Compound_Score' from 'imputation_orig_df' into 'imputation_test_df' based on the 'Date' index\n",
    "imputation_test_df = imputation_test_df.merge(imputation_orig_df[['True_NLTK_Compound_Score']], left_index=True, right_index=True, suffixes=('', '_orig'))\n",
    "print(imputation_test_df)\n"
   ]
  },
  {
   "cell_type": "code",
   "execution_count": 55,
   "id": "cccce260",
   "metadata": {},
   "outputs": [
    {
     "name": "stdout",
     "output_type": "stream",
     "text": [
      "         Date  NLTK_Compound_Score\n",
      "0  2009-04-06             0.149617\n",
      "1  2009-04-07             0.168363\n",
      "2  2009-04-08             0.203692\n",
      "3  2009-04-09             0.203692\n",
      "4  2009-04-10             0.203692\n",
      "5  2009-04-11             0.203692\n",
      "6  2009-04-12             0.203692\n",
      "7  2009-04-13             0.203692\n",
      "8  2009-04-14             0.203692\n",
      "9  2009-04-15             0.203692\n",
      "10 2009-04-16             0.203692\n",
      "11 2009-04-17             0.203692\n",
      "12 2009-04-18             0.183011\n",
      "13 2009-04-19             0.188620\n",
      "14 2009-04-20             0.180237\n",
      "15 2009-04-21             0.181058\n",
      "16 2009-04-22             0.179307\n",
      "17 2009-04-23             0.179307\n",
      "18 2009-04-24             0.179307\n",
      "19 2009-04-25             0.179307\n",
      "20 2009-04-26             0.179307\n",
      "21 2009-04-27             0.179307\n",
      "22 2009-04-28             0.179307\n",
      "23 2009-04-29             0.179307\n",
      "24 2009-04-30             0.179307\n",
      "25 2009-05-01             0.179307\n",
      "26 2009-05-02             0.182975\n",
      "27 2009-05-03             0.174692\n",
      "28 2009-05-04             0.169947\n",
      "29 2009-05-05             0.184752\n",
      "30 2009-05-06             0.184752\n",
      "31 2009-05-07             0.184752\n",
      "32 2009-05-08             0.184752\n",
      "33 2009-05-09             0.184752\n",
      "34 2009-05-10             0.213646\n",
      "35 2009-05-11             0.166249\n",
      "36 2009-05-12             0.146755\n",
      "37 2009-05-13             0.146755\n",
      "38 2009-05-14             0.173145\n",
      "39 2009-05-15             0.173580\n",
      "40 2009-05-16             0.173580\n",
      "41 2009-05-17             0.202065\n",
      "42 2009-05-18             0.189932\n",
      "43 2009-05-19             0.177161\n",
      "44 2009-05-20             0.177161\n",
      "45 2009-05-21             0.177161\n",
      "46 2009-05-22             0.199820\n",
      "47 2009-05-23             0.203072\n",
      "48 2009-05-24             0.189096\n",
      "49 2009-05-25             0.189096\n",
      "50 2009-05-26             0.173951\n",
      "51 2009-05-27             0.136597\n",
      "52 2009-05-28             0.186978\n",
      "53 2009-05-29             0.186387\n",
      "54 2009-05-30             0.192508\n",
      "55 2009-05-31             0.193986\n",
      "56 2009-06-01             0.175798\n",
      "57 2009-06-02             0.177499\n",
      "58 2009-06-03             0.174381\n",
      "59 2009-06-04             0.161690\n",
      "60 2009-06-05             0.186587\n",
      "61 2009-06-06             0.183182\n",
      "62 2009-06-07             0.183803\n",
      "63 2009-06-08             0.173571\n",
      "64 2009-06-09             0.173571\n",
      "65 2009-06-10             0.173571\n",
      "66 2009-06-11             0.173571\n",
      "67 2009-06-12             0.173571\n",
      "68 2009-06-13             0.173571\n",
      "69 2009-06-14             0.173571\n",
      "70 2009-06-15             0.170237\n",
      "71 2009-06-16             0.094655\n",
      "72 2009-06-17            -0.015195\n",
      "73 2009-06-18            -0.018375\n",
      "74 2009-06-19            -0.013508\n",
      "75 2009-06-20            -0.007760\n",
      "76 2009-06-21             0.003167\n",
      "77 2009-06-22            -0.032983\n",
      "78 2009-06-23            -0.021127\n",
      "79 2009-06-24            -0.018154\n",
      "80 2009-06-25            -0.021332\n"
     ]
    },
    {
     "data": {
      "text/plain": [
       "pandas.core.frame.DataFrame"
      ]
     },
     "execution_count": 55,
     "metadata": {},
     "output_type": "execute_result"
    }
   ],
   "source": [
    "merged_df_bfill = merged_df.bfill()\n",
    "#merged_df_bfill = merged_df_bfill.set_index('Date')\n",
    "print(merged_df_bfill)\n",
    "type(merged_df_bfill)"
   ]
  },
  {
   "cell_type": "code",
   "execution_count": 56,
   "id": "f5c09e4d",
   "metadata": {},
   "outputs": [
    {
     "data": {
      "image/png": "[encoded data removed]",
      "text/plain": [
       "<Figure size 1296x648 with 1 Axes>"
      ]
     },
     "metadata": {
      "needs_background": "light"
     },
     "output_type": "display_data"
    }
   ],
   "source": [
    "import pandas as pd\n",
    "import matplotlib.pyplot as plt\n",
    "\n",
    "\n",
    "df = pd.DataFrame(merged_df_bfill)\n",
    "df['Date'] = pd.to_datetime(df['Date'])\n",
    "\n",
    "# Create a line graph\n",
    "df.plot(x='Date', y='NLTK_Compound_Score', figsize=(18, 9), marker='o', linestyle='-')\n",
    "plt.title('Line Graph of NLTK_Compound_Score Over Time')\n",
    "plt.xlabel('Date')\n",
    "plt.ylabel('NLTK_Compound_Score')\n",
    "\n",
    "# Rotate the x-axis labels for better readability (optional)\n",
    "plt.xticks(rotation=45)\n",
    "\n",
    "# Display the plot\n",
    "plt.show()"
   ]
  },
  {
   "cell_type": "code",
   "execution_count": 57,
   "id": "61fa806a",
   "metadata": {},
   "outputs": [
    {
     "data": {
      "image/png": "[encoded data removed]",
      "text/plain": [
       "<Figure size 1296x648 with 1 Axes>"
      ]
     },
     "metadata": {
      "needs_background": "light"
     },
     "output_type": "display_data"
    }
   ],
   "source": [
    "import pandas as pd\n",
    "import matplotlib.pyplot as plt\n",
    "\n",
    "merged_df_bfill['7-day_MA'] = merged_df_bfill['NLTK_Compound_Score'].rolling(window=7).mean()\n",
    "#merged_df_bfill['7-day_MA'] = merged_df_bfill['7-day_MA'].bfill()\n",
    "\n",
    "df = pd.DataFrame(merged_df_bfill)\n",
    "df['Date'] = pd.to_datetime(df['Date'])\n",
    "\n",
    "# Create a line graph\n",
    "df.plot(x='Date', y='7-day_MA', figsize=(18, 9), marker='o', linestyle='-')\n",
    "plt.title('7 day moving average')\n",
    "plt.xlabel('Date')\n",
    "plt.ylabel('7-day_MA')\n",
    "\n",
    "# Rotate the x-axis labels for better readability (optional)\n",
    "plt.xticks(rotation=45)\n",
    "\n",
    "# Display the plot\n",
    "plt.show()"
   ]
  },
  {
   "cell_type": "code",
   "execution_count": 58,
   "id": "793951b9",
   "metadata": {},
   "outputs": [
    {
     "name": "stdout",
     "output_type": "stream",
     "text": [
      "         Date  NLTK_Compound_Score  7-day_MA\n",
      "0  2009-04-06             0.149617       NaN\n",
      "1  2009-04-07             0.168363       NaN\n",
      "2  2009-04-08             0.203692       NaN\n",
      "3  2009-04-09             0.203692       NaN\n",
      "4  2009-04-10             0.203692       NaN\n",
      "5  2009-04-11             0.203692       NaN\n",
      "6  2009-04-12             0.203692  0.190920\n",
      "7  2009-04-13             0.203692  0.198645\n",
      "8  2009-04-14             0.203692  0.203692\n",
      "9  2009-04-15             0.203692  0.203692\n",
      "10 2009-04-16             0.203692  0.203692\n",
      "11 2009-04-17             0.203692  0.203692\n",
      "12 2009-04-18             0.183011  0.200738\n",
      "13 2009-04-19             0.188620  0.198585\n",
      "14 2009-04-20             0.180237  0.195234\n",
      "15 2009-04-21             0.181058  0.192000\n",
      "16 2009-04-22             0.179307  0.188517\n",
      "17 2009-04-23             0.179307  0.185033\n",
      "18 2009-04-24             0.179307  0.181550\n",
      "19 2009-04-25             0.179307  0.181020\n",
      "20 2009-04-26             0.179307  0.179690\n",
      "21 2009-04-27             0.179307  0.179557\n",
      "22 2009-04-28             0.179307  0.179307\n",
      "23 2009-04-29             0.179307  0.179307\n",
      "24 2009-04-30             0.179307  0.179307\n",
      "25 2009-05-01             0.179307  0.179307\n",
      "26 2009-05-02             0.182975  0.179831\n",
      "27 2009-05-03             0.174692  0.179172\n",
      "28 2009-05-04             0.169947  0.177835\n",
      "29 2009-05-05             0.184752  0.178612\n",
      "30 2009-05-06             0.184752  0.179390\n",
      "31 2009-05-07             0.184752  0.180168\n",
      "32 2009-05-08             0.184752  0.180946\n",
      "33 2009-05-09             0.184752  0.181200\n",
      "34 2009-05-10             0.213646  0.186765\n",
      "35 2009-05-11             0.166249  0.186236\n",
      "36 2009-05-12             0.146755  0.180808\n",
      "37 2009-05-13             0.146755  0.175380\n",
      "38 2009-05-14             0.173145  0.173722\n",
      "39 2009-05-15             0.173580  0.172126\n",
      "40 2009-05-16             0.173580  0.170530\n",
      "41 2009-05-17             0.202065  0.168876\n",
      "42 2009-05-18             0.189932  0.172259\n",
      "43 2009-05-19             0.177161  0.176603\n",
      "44 2009-05-20             0.177161  0.180946\n",
      "45 2009-05-21             0.177161  0.181520\n",
      "46 2009-05-22             0.199820  0.185269\n",
      "47 2009-05-23             0.203072  0.189482\n",
      "48 2009-05-24             0.189096  0.187629\n",
      "49 2009-05-25             0.189096  0.187510\n",
      "50 2009-05-26             0.173951  0.187051\n",
      "51 2009-05-27             0.136597  0.181256\n",
      "52 2009-05-28             0.186978  0.182659\n",
      "53 2009-05-29             0.186387  0.180740\n",
      "54 2009-05-30             0.192508  0.179231\n",
      "55 2009-05-31             0.193986  0.179929\n",
      "56 2009-06-01             0.175798  0.178029\n",
      "57 2009-06-02             0.177499  0.178536\n",
      "58 2009-06-03             0.174381  0.183934\n",
      "59 2009-06-04             0.161690  0.180321\n",
      "60 2009-06-05             0.186587  0.180350\n",
      "61 2009-06-06             0.183182  0.179018\n",
      "62 2009-06-07             0.183803  0.177563\n",
      "63 2009-06-08             0.173571  0.177245\n",
      "64 2009-06-09             0.173571  0.176684\n",
      "65 2009-06-10             0.173571  0.176568\n",
      "66 2009-06-11             0.173571  0.178265\n",
      "67 2009-06-12             0.173571  0.176406\n",
      "68 2009-06-13             0.173571  0.175033\n",
      "69 2009-06-14             0.173571  0.173571\n",
      "70 2009-06-15             0.170237  0.173095\n",
      "71 2009-06-16             0.094655  0.161821\n",
      "72 2009-06-17            -0.015195  0.134855\n",
      "73 2009-06-18            -0.018375  0.107434\n",
      "74 2009-06-19            -0.013508  0.080708\n",
      "75 2009-06-20            -0.007760  0.054804\n",
      "76 2009-06-21             0.003167  0.030460\n",
      "77 2009-06-22            -0.032983  0.001429\n",
      "78 2009-06-23            -0.021127 -0.015112\n",
      "79 2009-06-24            -0.018154 -0.015534\n",
      "80 2009-06-25            -0.021332 -0.015957\n"
     ]
    }
   ],
   "source": [
    "print(merged_df_bfill)"
   ]
  },
  {
   "cell_type": "code",
   "execution_count": 60,
   "id": "cfe3f66c",
   "metadata": {},
   "outputs": [
    {
     "name": "stdout",
     "output_type": "stream",
     "text": [
      "            NLTK_Compound_Score\n",
      "Date                           \n",
      "2009-04-06             0.149617\n",
      "2009-04-07             0.168363\n",
      "2009-04-08             0.203692\n",
      "2009-04-09             0.203692\n",
      "2009-04-10             0.203692\n",
      "2009-04-11             0.203692\n",
      "2009-04-12             0.203692\n",
      "2009-04-13             0.203692\n",
      "2009-04-14             0.203692\n",
      "2009-04-15             0.203692\n",
      "2009-04-16             0.203692\n",
      "2009-04-17             0.203692\n",
      "2009-04-18             0.183011\n",
      "2009-04-19             0.188620\n",
      "2009-04-20             0.180237\n",
      "2009-04-21             0.181058\n",
      "2009-04-22             0.179307\n",
      "2009-04-23             0.179307\n",
      "2009-04-24             0.179307\n",
      "2009-04-25             0.179307\n",
      "2009-04-26             0.179307\n",
      "2009-04-27             0.179307\n",
      "2009-04-28             0.179307\n",
      "2009-04-29             0.179307\n",
      "2009-04-30             0.179307\n",
      "2009-05-01             0.179307\n",
      "2009-05-02             0.182975\n",
      "2009-05-03             0.174692\n",
      "2009-05-04             0.169947\n",
      "2009-05-05             0.184752\n",
      "2009-05-06             0.184752\n",
      "2009-05-07             0.184752\n",
      "2009-05-08             0.184752\n",
      "2009-05-09             0.184752\n",
      "2009-05-10             0.213646\n",
      "2009-05-11             0.166249\n",
      "2009-05-12             0.146755\n",
      "2009-05-13             0.146755\n",
      "2009-05-14             0.173145\n",
      "2009-05-15             0.173580\n",
      "2009-05-16             0.173580\n",
      "2009-05-17             0.202065\n",
      "2009-05-18             0.189932\n",
      "2009-05-19             0.177161\n",
      "2009-05-20             0.177161\n",
      "2009-05-21             0.177161\n",
      "2009-05-22             0.199820\n",
      "2009-05-23             0.203072\n",
      "2009-05-24             0.189096\n",
      "2009-05-25             0.189096\n",
      "2009-05-26             0.173951\n",
      "2009-05-27             0.136597\n",
      "2009-05-28             0.186978\n",
      "2009-05-29             0.186387\n",
      "2009-05-30             0.192508\n",
      "2009-05-31             0.193986\n",
      "2009-06-01             0.175798\n",
      "2009-06-02             0.177499\n",
      "2009-06-03             0.174381\n",
      "2009-06-04             0.161690\n",
      "2009-06-05             0.186587\n",
      "2009-06-06             0.183182\n",
      "2009-06-07             0.183803\n",
      "2009-06-08             0.173571\n",
      "2009-06-09             0.173571\n",
      "2009-06-10             0.173571\n",
      "2009-06-11             0.173571\n",
      "2009-06-12             0.173571\n",
      "2009-06-13             0.173571\n",
      "2009-06-14             0.173571\n",
      "2009-06-15             0.170237\n",
      "2009-06-16             0.094655\n",
      "2009-06-17            -0.015195\n",
      "2009-06-18            -0.018375\n",
      "2009-06-19            -0.013508\n",
      "2009-06-20            -0.007760\n",
      "2009-06-21             0.003167\n",
      "2009-06-22            -0.032983\n",
      "2009-06-23            -0.021127\n",
      "2009-06-24            -0.018154\n",
      "2009-06-25            -0.021332\n"
     ]
    }
   ],
   "source": [
    "merged_df_bfill = merged_df.bfill()\n",
    "merged_df_bfill = merged_df_bfill.set_index('Date')\n",
    "print(merged_df_bfill)\n"
   ]
  },
  {
   "cell_type": "code",
   "execution_count": 61,
   "id": "9288995e",
   "metadata": {},
   "outputs": [
    {
     "data": {
      "text/plain": [
       "DatetimeIndex(['2009-04-06', '2009-04-07', '2009-04-08', '2009-04-09',\n",
       "               '2009-04-10', '2009-04-11', '2009-04-12', '2009-04-13',\n",
       "               '2009-04-14', '2009-04-15', '2009-04-16', '2009-04-17',\n",
       "               '2009-04-18', '2009-04-19', '2009-04-20', '2009-04-21',\n",
       "               '2009-04-22', '2009-04-23', '2009-04-24', '2009-04-25',\n",
       "               '2009-04-26', '2009-04-27', '2009-04-28', '2009-04-29',\n",
       "               '2009-04-30', '2009-05-01', '2009-05-02', '2009-05-03',\n",
       "               '2009-05-04', '2009-05-05', '2009-05-06', '2009-05-07',\n",
       "               '2009-05-08', '2009-05-09', '2009-05-10', '2009-05-11',\n",
       "               '2009-05-12', '2009-05-13', '2009-05-14', '2009-05-15',\n",
       "               '2009-05-16', '2009-05-17', '2009-05-18', '2009-05-19',\n",
       "               '2009-05-20', '2009-05-21', '2009-05-22', '2009-05-23',\n",
       "               '2009-05-24', '2009-05-25', '2009-05-26', '2009-05-27',\n",
       "               '2009-05-28', '2009-05-29', '2009-05-30', '2009-05-31',\n",
       "               '2009-06-01', '2009-06-02', '2009-06-03', '2009-06-04',\n",
       "               '2009-06-05', '2009-06-06', '2009-06-07', '2009-06-08',\n",
       "               '2009-06-09', '2009-06-10', '2009-06-11', '2009-06-12',\n",
       "               '2009-06-13', '2009-06-14', '2009-06-15', '2009-06-16',\n",
       "               '2009-06-17', '2009-06-18', '2009-06-19', '2009-06-20',\n",
       "               '2009-06-21', '2009-06-22', '2009-06-23', '2009-06-24',\n",
       "               '2009-06-25'],\n",
       "              dtype='datetime64[ns]', name='Date', freq=None)"
      ]
     },
     "execution_count": 61,
     "metadata": {},
     "output_type": "execute_result"
    }
   ],
   "source": [
    "merged_df_bfill.index"
   ]
  },
  {
   "cell_type": "code",
   "execution_count": 77,
   "id": "9c8f01c6",
   "metadata": {},
   "outputs": [
    {
     "data": {
      "image/png": "[encoded data removed]",
      "text/plain": [
       "<Figure size 1080x504 with 1 Axes>"
      ]
     },
     "metadata": {},
     "output_type": "display_data"
    }
   ],
   "source": [
    "train = merged_df_bfill[merged_df_bfill.index <= pd.to_datetime(\"2009-06-01\", format='%Y-%m-%d')]\n",
    "test = merged_df_bfill[merged_df_bfill.index > pd.to_datetime(\"2009-06-01\", format='%Y-%m-%d')]\n",
    "plt.figure(figsize=(15, 7)) \n",
    "plt.plot(train, color = \"black\")\n",
    "plt.plot(test, color = \"red\")\n",
    "plt.ylabel('NLTK_Compound_Score')\n",
    "plt.xlabel('Date')\n",
    "plt.xticks(rotation=45)\n",
    "plt.title(\"Train/Test split for BTC Data\")\n",
    "plt.show()"
   ]
  },
  {
   "cell_type": "code",
   "execution_count": 89,
   "id": "f82ed25e",
   "metadata": {},
   "outputs": [
    {
     "name": "stderr",
     "output_type": "stream",
     "text": [
      "/home/hduser/.local/lib/python3.10/site-packages/statsmodels/tsa/base/tsa_model.py:473: ValueWarning: No frequency information was provided, so inferred frequency D will be used.\n",
      "  self._init_dates(dates, freq)\n",
      "/home/hduser/.local/lib/python3.10/site-packages/statsmodels/tsa/base/tsa_model.py:473: ValueWarning: No frequency information was provided, so inferred frequency D will be used.\n",
      "  self._init_dates(dates, freq)\n"
     ]
    },
    {
     "name": "stdout",
     "output_type": "stream",
     "text": [
      "RUNNING THE L-BFGS-B CODE\n",
      "\n",
      "           * * *\n",
      "\n",
      "Machine precision = 2.220D-16\n",
      " N =            3     M =           10\n",
      " This problem is unconstrained.\n",
      "\n",
      "At X0         0 variables are exactly at the bounds\n",
      "\n",
      "At iterate    0    f= -2.73067D+00    |proj g|=  8.59562D+00\n",
      "\n",
      "At iterate    5    f= -2.73420D+00    |proj g|=  6.41811D-02\n",
      "\n",
      "At iterate   10    f= -2.73432D+00    |proj g|=  4.32789D-01\n",
      "\n",
      "           * * *\n",
      "\n",
      "Tit   = total number of iterations\n",
      "Tnf   = total number of function evaluations\n",
      "Tnint = total number of segments explored during Cauchy searches\n",
      "Skip  = number of BFGS updates skipped\n",
      "Nact  = number of active bounds at final generalized Cauchy point\n",
      "Projg = norm of the final projected gradient\n",
      "F     = final function value\n",
      "\n",
      "           * * *\n",
      "\n",
      "   N    Tit     Tnf  Tnint  Skip  Nact     Projg        F\n",
      "    3     14     31      1     0     0   1.190D-03  -2.734D+00\n",
      "  F =  -2.7343296076605457     \n",
      "\n",
      "CONVERGENCE: REL_REDUCTION_OF_F_<=_FACTR*EPSMCH             \n",
      "\n",
      " Warning:  more than 10 function and gradient\n",
      "   evaluations in the last line search.  Termination\n",
      "   may possibly be caused by a bad search direction.\n"
     ]
    },
    {
     "data": {
      "text/plain": [
       "<matplotlib.legend.Legend at 0x7f4a902183d0>"
      ]
     },
     "execution_count": 89,
     "metadata": {},
     "output_type": "execute_result"
    },
    {
     "data": {
      "image/png": "[encoded data removed]",
      "text/plain": [
       "<Figure size 1080x504 with 1 Axes>"
      ]
     },
     "metadata": {},
     "output_type": "display_data"
    }
   ],
   "source": [
    "from statsmodels.tsa.statespace.sarimax import SARIMAX\n",
    "y = train['NLTK_Compound_Score']\n",
    "ARMAmodel = SARIMAX(y, order = (1, 0, 1))\n",
    "ARMAmodel = ARMAmodel.fit()\n",
    "y_pred = ARMAmodel.get_forecast(len(test.index))\n",
    "y_pred_df = y_pred.conf_int(alpha = 0.05)\n",
    "y_pred_df[\"Predictions\"] = ARMAmodel.predict(start = y_pred_df.index[0], end = y_pred_df.index[-1])\n",
    "y_pred_df.index = test.index\n",
    "plt.figure(figsize=(15, 7)) \n",
    "y_pred_out = y_pred_df[\"Predictions\"]\n",
    "plt.plot(y_pred_out, color='green', label = 'Predictions')\n",
    "\n",
    "plt.legend()\n"
   ]
  },
  {
   "cell_type": "code",
   "execution_count": 90,
   "id": "ac8c41c5",
   "metadata": {},
   "outputs": [],
   "source": [
    "from statsmodels.tsa.stattools import adfuller"
   ]
  },
  {
   "cell_type": "code",
   "execution_count": 93,
   "id": "9c550579",
   "metadata": {},
   "outputs": [
    {
     "name": "stdout",
     "output_type": "stream",
     "text": [
      "ADF Statistic: -0.006316234289104147\n",
      "p-value: 0.9580066104410131\n",
      "Failed to reject the null hypothesis. The data is likely non-stationary.\n"
     ]
    }
   ],
   "source": [
    "result = adfuller(merged_df_bfill['NLTK_Compound_Score'].values)\n",
    "adf_statistic = result[0]\n",
    "p_value = result[1]\n",
    "\n",
    "# Define a significance level (e.g., 0.05)\n",
    "significance_level = 0.05\n",
    "\n",
    "# Summarize the results\n",
    "if p_value < significance_level:\n",
    "    print(\"ADF Statistic:\", adf_statistic)\n",
    "    print(\"p-value:\", p_value)\n",
    "    print(\"Null hypothesis can be rejected. The data is likely stationary.\")\n",
    "else:\n",
    "    print(\"ADF Statistic:\", adf_statistic)\n",
    "    print(\"p-value:\", p_value)\n",
    "    print(\"Failed to reject the null hypothesis. The data is likely non-stationary.\")"
   ]
  },
  {
   "cell_type": "code",
   "execution_count": null,
   "id": "0d572535",
   "metadata": {},
   "outputs": [],
   "source": []
  }
 ],
 "metadata": {
  "kernelspec": {
   "display_name": "Python 3 (ipykernel)",
   "language": "python",
   "name": "python3"
  },
  "language_info": {
   "codemirror_mode": {
    "name": "ipython",
    "version": 3
   },
   "file_extension": ".py",
   "mimetype": "text/x-python",
   "name": "python",
   "nbconvert_exporter": "python",
   "pygments_lexer": "ipython3",
   "version": "3.10.12"
  }
 },
 "nbformat": 4,
 "nbformat_minor": 5
}
